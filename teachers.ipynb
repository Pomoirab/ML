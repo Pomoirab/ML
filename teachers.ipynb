{
  "nbformat": 4,
  "nbformat_minor": 0,
  "metadata": {
    "colab": {
      "provenance": [],
      "include_colab_link": true
    },
    "kernelspec": {
      "name": "python3",
      "display_name": "Python 3"
    },
    "language_info": {
      "name": "python"
    }
  },
  "cells": [
    {
      "cell_type": "markdown",
      "metadata": {
        "id": "view-in-github",
        "colab_type": "text"
      },
      "source": [
        "<a href=\"https://colab.research.google.com/github/Pomoirab/ML/blob/main/teachers.ipynb\" target=\"_parent\"><img src=\"https://colab.research.google.com/assets/colab-badge.svg\" alt=\"Open In Colab\"/></a>"
      ]
    },
    {
      "cell_type": "code",
      "execution_count": null,
      "metadata": {
        "colab": {
          "base_uri": "https://localhost:8080/"
        },
        "id": "c6N-GIz6phqz",
        "outputId": "0d68e47d-dd44-446c-e6c3-54648b1d1006"
      },
      "outputs": [
        {
          "output_type": "stream",
          "name": "stdout",
          "text": [
            "Mounted at /content/drive\n"
          ]
        }
      ],
      "source": [
        "from google.colab import drive\n",
        "drive.mount('/content/drive')"
      ]
    },
    {
      "cell_type": "code",
      "source": [
        "data = open('drive/My Drive/University of Bradford/Teaching/Artificial Intelligence Module/Supervised Learning/teachers.txt').read().split('\\n')\n",
        "texts = []\n",
        "labels = []\n",
        "for line in data:\n",
        "  line = line.split('|')\n",
        "  if len(line) != 2:\n",
        "    continue\n",
        "  text = line[0].strip()\n",
        "  label = line[1].strip()\n",
        "  texts.append(text)\n",
        "  labels.append(label)"
      ],
      "metadata": {
        "id": "I3rkVVR2p7cI"
      },
      "execution_count": null,
      "outputs": []
    },
    {
      "cell_type": "code",
      "source": [
        "len(texts), len(labels)"
      ],
      "metadata": {
        "colab": {
          "base_uri": "https://localhost:8080/"
        },
        "id": "FiNP2y37qzWL",
        "outputId": "56b9598c-e6f7-4ad6-dcb0-f9a7ad71307a"
      },
      "execution_count": null,
      "outputs": [
        {
          "output_type": "execute_result",
          "data": {
            "text/plain": [
              "(10, 10)"
            ]
          },
          "metadata": {},
          "execution_count": 3
        }
      ]
    },
    {
      "cell_type": "code",
      "source": [
        "texts"
      ],
      "metadata": {
        "colab": {
          "base_uri": "https://localhost:8080/"
        },
        "id": "LbUx2gAbs_RI",
        "outputId": "891354c2-85a4-4316-d483-e50670f80fb8"
      },
      "execution_count": null,
      "outputs": [
        {
          "output_type": "execute_result",
          "data": {
            "text/plain": [
              "['The teacher was disrespectful and he treats everyone badly',\n",
              " 'This teacher treats people with disrespect . She always yells at her students',\n",
              " 'Please tell him not to yell as us',\n",
              " 'He needs to respect us . We are humans .',\n",
              " 'If he treats his students like that , then we should not respect him',\n",
              " 'What a wonderful teacher',\n",
              " 'This lady is wonderful . She explains the lessons in a very easy to understand way',\n",
              " 'The way she explains things is really great',\n",
              " 'She is the most wonderful teacher I have seen in my life',\n",
              " 'I wish all my teacher were like that . She makes everything easy']"
            ]
          },
          "metadata": {},
          "execution_count": 5
        }
      ]
    },
    {
      "cell_type": "code",
      "source": [
        "from sklearn.feature_extraction.text import CountVectorizer\n",
        "vectorizer = CountVectorizer()\n",
        "X = vectorizer.fit_transform(texts)"
      ],
      "metadata": {
        "id": "ZwV2Xt1wrarW"
      },
      "execution_count": null,
      "outputs": []
    },
    {
      "cell_type": "code",
      "source": [
        " vectorizer.get_feature_names_out()"
      ],
      "metadata": {
        "colab": {
          "base_uri": "https://localhost:8080/"
        },
        "id": "lT2KG6aIrniG",
        "outputId": "99700956-12d2-4cb8-91ad-98c2402fa723"
      },
      "execution_count": null,
      "outputs": [
        {
          "output_type": "execute_result",
          "data": {
            "text/plain": [
              "array(['all', 'always', 'and', 'are', 'as', 'at', 'badly', 'disrespect',\n",
              "       'disrespectful', 'easy', 'everyone', 'everything', 'explains',\n",
              "       'great', 'have', 'he', 'her', 'him', 'his', 'humans', 'if', 'in',\n",
              "       'is', 'lady', 'lessons', 'life', 'like', 'makes', 'most', 'my',\n",
              "       'needs', 'not', 'people', 'please', 'really', 'respect', 'seen',\n",
              "       'she', 'should', 'students', 'teacher', 'tell', 'that', 'the',\n",
              "       'then', 'things', 'this', 'to', 'treats', 'understand', 'us',\n",
              "       'very', 'was', 'way', 'we', 'were', 'what', 'wish', 'with',\n",
              "       'wonderful', 'yell', 'yells'], dtype=object)"
            ]
          },
          "metadata": {},
          "execution_count": 7
        }
      ]
    },
    {
      "cell_type": "code",
      "source": [
        " print(X.toarray())"
      ],
      "metadata": {
        "colab": {
          "base_uri": "https://localhost:8080/"
        },
        "id": "SEM-KfLMrwnW",
        "outputId": "61c3792f-301d-4cd1-cc4b-7473faff1b33"
      },
      "execution_count": null,
      "outputs": [
        {
          "output_type": "stream",
          "name": "stdout",
          "text": [
            "[[0 0 1 0 0 0 1 0 1 0 1 0 0 0 0 1 0 0 0 0 0 0 0 0 0 0 0 0 0 0 0 0 0 0 0 0\n",
            "  0 0 0 0 1 0 0 1 0 0 0 0 1 0 0 0 1 0 0 0 0 0 0 0 0 0]\n",
            " [0 1 0 0 0 1 0 1 0 0 0 0 0 0 0 0 1 0 0 0 0 0 0 0 0 0 0 0 0 0 0 0 1 0 0 0\n",
            "  0 1 0 1 1 0 0 0 0 0 1 0 1 0 0 0 0 0 0 0 0 0 1 0 0 1]\n",
            " [0 0 0 0 1 0 0 0 0 0 0 0 0 0 0 0 0 1 0 0 0 0 0 0 0 0 0 0 0 0 0 1 0 1 0 0\n",
            "  0 0 0 0 0 1 0 0 0 0 0 1 0 0 1 0 0 0 0 0 0 0 0 0 1 0]\n",
            " [0 0 0 1 0 0 0 0 0 0 0 0 0 0 0 1 0 0 0 1 0 0 0 0 0 0 0 0 0 0 1 0 0 0 0 1\n",
            "  0 0 0 0 0 0 0 0 0 0 0 1 0 0 1 0 0 0 1 0 0 0 0 0 0 0]\n",
            " [0 0 0 0 0 0 0 0 0 0 0 0 0 0 0 1 0 1 1 0 1 0 0 0 0 0 1 0 0 0 0 1 0 0 0 1\n",
            "  0 0 1 1 0 0 1 0 1 0 0 0 1 0 0 0 0 0 1 0 0 0 0 0 0 0]\n",
            " [0 0 0 0 0 0 0 0 0 0 0 0 0 0 0 0 0 0 0 0 0 0 0 0 0 0 0 0 0 0 0 0 0 0 0 0\n",
            "  0 0 0 0 1 0 0 0 0 0 0 0 0 0 0 0 0 0 0 0 1 0 0 1 0 0]\n",
            " [0 0 0 0 0 0 0 0 0 1 0 0 1 0 0 0 0 0 0 0 0 1 1 1 1 0 0 0 0 0 0 0 0 0 0 0\n",
            "  0 1 0 0 0 0 0 1 0 0 1 1 0 1 0 1 0 1 0 0 0 0 0 1 0 0]\n",
            " [0 0 0 0 0 0 0 0 0 0 0 0 1 1 0 0 0 0 0 0 0 0 1 0 0 0 0 0 0 0 0 0 0 0 1 0\n",
            "  0 1 0 0 0 0 0 1 0 1 0 0 0 0 0 0 0 1 0 0 0 0 0 0 0 0]\n",
            " [0 0 0 0 0 0 0 0 0 0 0 0 0 0 1 0 0 0 0 0 0 1 1 0 0 1 0 0 1 1 0 0 0 0 0 0\n",
            "  1 1 0 0 1 0 0 1 0 0 0 0 0 0 0 0 0 0 0 0 0 0 0 1 0 0]\n",
            " [1 0 0 0 0 0 0 0 0 1 0 1 0 0 0 0 0 0 0 0 0 0 0 0 0 0 1 1 0 1 0 0 0 0 0 0\n",
            "  0 1 0 0 1 0 1 0 0 0 0 0 0 0 0 0 0 0 0 1 0 1 0 0 0 0]]\n"
          ]
        }
      ]
    },
    {
      "cell_type": "code",
      "source": [
        " vectorizer2 = CountVectorizer(analyzer='word', ngram_range=(1, 3))\n",
        " X2 = vectorizer2.fit_transform(data)\n",
        " vectorizer2.get_feature_names_out()"
      ],
      "metadata": {
        "colab": {
          "base_uri": "https://localhost:8080/"
        },
        "id": "prv5Tjdwr8M-",
        "outputId": "9724ba1c-e1e4-407e-8704-aaccb6351ee6"
      },
      "execution_count": null,
      "outputs": [
        {
          "output_type": "execute_result",
          "data": {
            "text/plain": [
              "array(['all', 'all my', 'all my teacher', 'always', 'always yells',\n",
              "       'always yells at', 'and', 'and he', 'and he treats', 'are',\n",
              "       'are humans', 'are humans neg', 'as', 'as us', 'as us neg', 'at',\n",
              "       'at her', 'at her students', 'badly', 'badly neg', 'disrespect',\n",
              "       'disrespect she', 'disrespect she always', 'disrespectful',\n",
              "       'disrespectful and', 'disrespectful and he', 'easy', 'easy pos',\n",
              "       'easy to', 'easy to understand', 'everyone', 'everyone badly',\n",
              "       'everyone badly neg', 'everything', 'everything easy',\n",
              "       'everything easy pos', 'explains', 'explains the',\n",
              "       'explains the lessons', 'explains things', 'explains things is',\n",
              "       'great', 'great pos', 'have', 'have seen', 'have seen in', 'he',\n",
              "       'he needs', 'he needs to', 'he treats', 'he treats everyone',\n",
              "       'he treats his', 'her', 'her students', 'her students neg', 'him',\n",
              "       'him neg', 'him not', 'him not to', 'his', 'his students',\n",
              "       'his students like', 'humans', 'humans neg', 'if', 'if he',\n",
              "       'if he treats', 'in', 'in my', 'in my life', 'in very',\n",
              "       'in very easy', 'is', 'is really', 'is really great', 'is the',\n",
              "       'is the most', 'is wonderful', 'is wonderful she', 'lady',\n",
              "       'lady is', 'lady is wonderful', 'lessons', 'lessons in',\n",
              "       'lessons in very', 'life', 'life pos', 'like', 'like that',\n",
              "       'like that she', 'like that then', 'makes', 'makes everything',\n",
              "       'makes everything easy', 'most', 'most wonderful',\n",
              "       'most wonderful teacher', 'my', 'my life', 'my life pos',\n",
              "       'my teacher', 'my teacher were', 'needs', 'needs to',\n",
              "       'needs to respect', 'neg', 'not', 'not respect', 'not respect him',\n",
              "       'not to', 'not to yell', 'people', 'people with',\n",
              "       'people with disrespect', 'please', 'please tell',\n",
              "       'please tell him', 'pos', 'really', 'really great',\n",
              "       'really great pos', 'respect', 'respect him', 'respect him neg',\n",
              "       'respect us', 'respect us we', 'seen', 'seen in', 'seen in my',\n",
              "       'she', 'she always', 'she always yells', 'she explains',\n",
              "       'she explains the', 'she explains things', 'she is', 'she is the',\n",
              "       'she makes', 'she makes everything', 'should', 'should not',\n",
              "       'should not respect', 'students', 'students like',\n",
              "       'students like that', 'students neg', 'teacher', 'teacher have',\n",
              "       'teacher have seen', 'teacher pos', 'teacher treats',\n",
              "       'teacher treats people', 'teacher was',\n",
              "       'teacher was disrespectful', 'teacher were', 'teacher were like',\n",
              "       'tell', 'tell him', 'tell him not', 'that', 'that she',\n",
              "       'that she makes', 'that then', 'that then we', 'the',\n",
              "       'the lessons', 'the lessons in', 'the most', 'the most wonderful',\n",
              "       'the teacher', 'the teacher was', 'the way', 'the way she', 'then',\n",
              "       'then we', 'then we should', 'things', 'things is',\n",
              "       'things is really', 'this', 'this lady', 'this lady is',\n",
              "       'this teacher', 'this teacher treats', 'to', 'to respect',\n",
              "       'to respect us', 'to understand', 'to understand way', 'to yell',\n",
              "       'to yell as', 'treats', 'treats everyone', 'treats everyone badly',\n",
              "       'treats his', 'treats his students', 'treats people',\n",
              "       'treats people with', 'understand', 'understand way',\n",
              "       'understand way pos', 'us', 'us neg', 'us we', 'us we are', 'very',\n",
              "       'very easy', 'very easy to', 'was', 'was disrespectful',\n",
              "       'was disrespectful and', 'way', 'way pos', 'way she',\n",
              "       'way she explains', 'we', 'we are', 'we are humans', 'we should',\n",
              "       'we should not', 'were', 'were like', 'were like that', 'what',\n",
              "       'what wonderful', 'what wonderful teacher', 'wish', 'wish all',\n",
              "       'wish all my', 'with', 'with disrespect', 'with disrespect she',\n",
              "       'wonderful', 'wonderful she', 'wonderful she explains',\n",
              "       'wonderful teacher', 'wonderful teacher have',\n",
              "       'wonderful teacher pos', 'yell', 'yell as', 'yell as us', 'yells',\n",
              "       'yells at', 'yells at her'], dtype=object)"
            ]
          },
          "metadata": {},
          "execution_count": 9
        }
      ]
    },
    {
      "cell_type": "code",
      "source": [
        " print(X2.toarray())"
      ],
      "metadata": {
        "colab": {
          "base_uri": "https://localhost:8080/"
        },
        "id": "AhGz4Yj6sGhG",
        "outputId": "e06d1a22-11c9-4c0f-d61f-eacecfc4bcba"
      },
      "execution_count": null,
      "outputs": [
        {
          "output_type": "stream",
          "name": "stdout",
          "text": [
            "[[0 0 0 ... 0 0 0]\n",
            " [0 0 0 ... 1 1 1]\n",
            " [0 0 0 ... 0 0 0]\n",
            " ...\n",
            " [0 0 0 ... 0 0 0]\n",
            " [0 0 0 ... 0 0 0]\n",
            " [1 1 1 ... 0 0 0]]\n"
          ]
        }
      ]
    },
    {
      "cell_type": "markdown",
      "source": [
        "We will now train machine learners to do sentiment analysis"
      ],
      "metadata": {
        "id": "dwLsA_5qsRz-"
      }
    },
    {
      "cell_type": "code",
      "source": [
        "# A KNN classifier\n",
        "from sklearn.neighbors import KNeighborsClassifier\n",
        "neigh = KNeighborsClassifier(n_neighbors=3)\n",
        "neigh.fit(X, labels)"
      ],
      "metadata": {
        "colab": {
          "base_uri": "https://localhost:8080/",
          "height": 74
        },
        "id": "gaCM68oPsQlf",
        "outputId": "e9d65601-3368-43eb-a835-b94b6d0b53ce"
      },
      "execution_count": null,
      "outputs": [
        {
          "output_type": "execute_result",
          "data": {
            "text/plain": [
              "KNeighborsClassifier(n_neighbors=3)"
            ],
            "text/html": [
              "<style>#sk-container-id-1 {color: black;background-color: white;}#sk-container-id-1 pre{padding: 0;}#sk-container-id-1 div.sk-toggleable {background-color: white;}#sk-container-id-1 label.sk-toggleable__label {cursor: pointer;display: block;width: 100%;margin-bottom: 0;padding: 0.3em;box-sizing: border-box;text-align: center;}#sk-container-id-1 label.sk-toggleable__label-arrow:before {content: \"▸\";float: left;margin-right: 0.25em;color: #696969;}#sk-container-id-1 label.sk-toggleable__label-arrow:hover:before {color: black;}#sk-container-id-1 div.sk-estimator:hover label.sk-toggleable__label-arrow:before {color: black;}#sk-container-id-1 div.sk-toggleable__content {max-height: 0;max-width: 0;overflow: hidden;text-align: left;background-color: #f0f8ff;}#sk-container-id-1 div.sk-toggleable__content pre {margin: 0.2em;color: black;border-radius: 0.25em;background-color: #f0f8ff;}#sk-container-id-1 input.sk-toggleable__control:checked~div.sk-toggleable__content {max-height: 200px;max-width: 100%;overflow: auto;}#sk-container-id-1 input.sk-toggleable__control:checked~label.sk-toggleable__label-arrow:before {content: \"▾\";}#sk-container-id-1 div.sk-estimator input.sk-toggleable__control:checked~label.sk-toggleable__label {background-color: #d4ebff;}#sk-container-id-1 div.sk-label input.sk-toggleable__control:checked~label.sk-toggleable__label {background-color: #d4ebff;}#sk-container-id-1 input.sk-hidden--visually {border: 0;clip: rect(1px 1px 1px 1px);clip: rect(1px, 1px, 1px, 1px);height: 1px;margin: -1px;overflow: hidden;padding: 0;position: absolute;width: 1px;}#sk-container-id-1 div.sk-estimator {font-family: monospace;background-color: #f0f8ff;border: 1px dotted black;border-radius: 0.25em;box-sizing: border-box;margin-bottom: 0.5em;}#sk-container-id-1 div.sk-estimator:hover {background-color: #d4ebff;}#sk-container-id-1 div.sk-parallel-item::after {content: \"\";width: 100%;border-bottom: 1px solid gray;flex-grow: 1;}#sk-container-id-1 div.sk-label:hover label.sk-toggleable__label {background-color: #d4ebff;}#sk-container-id-1 div.sk-serial::before {content: \"\";position: absolute;border-left: 1px solid gray;box-sizing: border-box;top: 0;bottom: 0;left: 50%;z-index: 0;}#sk-container-id-1 div.sk-serial {display: flex;flex-direction: column;align-items: center;background-color: white;padding-right: 0.2em;padding-left: 0.2em;position: relative;}#sk-container-id-1 div.sk-item {position: relative;z-index: 1;}#sk-container-id-1 div.sk-parallel {display: flex;align-items: stretch;justify-content: center;background-color: white;position: relative;}#sk-container-id-1 div.sk-item::before, #sk-container-id-1 div.sk-parallel-item::before {content: \"\";position: absolute;border-left: 1px solid gray;box-sizing: border-box;top: 0;bottom: 0;left: 50%;z-index: -1;}#sk-container-id-1 div.sk-parallel-item {display: flex;flex-direction: column;z-index: 1;position: relative;background-color: white;}#sk-container-id-1 div.sk-parallel-item:first-child::after {align-self: flex-end;width: 50%;}#sk-container-id-1 div.sk-parallel-item:last-child::after {align-self: flex-start;width: 50%;}#sk-container-id-1 div.sk-parallel-item:only-child::after {width: 0;}#sk-container-id-1 div.sk-dashed-wrapped {border: 1px dashed gray;margin: 0 0.4em 0.5em 0.4em;box-sizing: border-box;padding-bottom: 0.4em;background-color: white;}#sk-container-id-1 div.sk-label label {font-family: monospace;font-weight: bold;display: inline-block;line-height: 1.2em;}#sk-container-id-1 div.sk-label-container {text-align: center;}#sk-container-id-1 div.sk-container {/* jupyter's `normalize.less` sets `[hidden] { display: none; }` but bootstrap.min.css set `[hidden] { display: none !important; }` so we also need the `!important` here to be able to override the default hidden behavior on the sphinx rendered scikit-learn.org. See: https://github.com/scikit-learn/scikit-learn/issues/21755 */display: inline-block !important;position: relative;}#sk-container-id-1 div.sk-text-repr-fallback {display: none;}</style><div id=\"sk-container-id-1\" class=\"sk-top-container\"><div class=\"sk-text-repr-fallback\"><pre>KNeighborsClassifier(n_neighbors=3)</pre><b>In a Jupyter environment, please rerun this cell to show the HTML representation or trust the notebook. <br />On GitHub, the HTML representation is unable to render, please try loading this page with nbviewer.org.</b></div><div class=\"sk-container\" hidden><div class=\"sk-item\"><div class=\"sk-estimator sk-toggleable\"><input class=\"sk-toggleable__control sk-hidden--visually\" id=\"sk-estimator-id-1\" type=\"checkbox\" checked><label for=\"sk-estimator-id-1\" class=\"sk-toggleable__label sk-toggleable__label-arrow\">KNeighborsClassifier</label><div class=\"sk-toggleable__content\"><pre>KNeighborsClassifier(n_neighbors=3)</pre></div></div></div></div></div>"
            ]
          },
          "metadata": {},
          "execution_count": 11
        }
      ]
    },
    {
      "cell_type": "code",
      "source": [
        "test1 = [\"This wonderful teacher is a mster of making hard subjects easy . I like her\"]\n",
        "test1_vec = vectorizer.transform(test1)\n",
        "test1_vec.toarray()"
      ],
      "metadata": {
        "colab": {
          "base_uri": "https://localhost:8080/"
        },
        "id": "OX_GjD0us0aQ",
        "outputId": "1e317b54-4ca0-4939-e8ab-08b4c962cbaf"
      },
      "execution_count": null,
      "outputs": [
        {
          "output_type": "execute_result",
          "data": {
            "text/plain": [
              "array([[0, 0, 0, 0, 0, 0, 0, 0, 0, 1, 0, 0, 0, 0, 0, 0, 1, 0, 0, 0, 0, 0,\n",
              "        1, 0, 0, 0, 1, 0, 0, 0, 0, 0, 0, 0, 0, 0, 0, 0, 0, 0, 1, 0, 0, 0,\n",
              "        0, 0, 1, 0, 0, 0, 0, 0, 0, 0, 0, 0, 0, 0, 0, 1, 0, 0]])"
            ]
          },
          "metadata": {},
          "execution_count": 12
        }
      ]
    },
    {
      "cell_type": "code",
      "source": [],
      "metadata": {
        "id": "XDPX80RHu3EA"
      },
      "execution_count": null,
      "outputs": []
    },
    {
      "cell_type": "code",
      "source": [
        "print(neigh.predict(test1_vec))"
      ],
      "metadata": {
        "colab": {
          "base_uri": "https://localhost:8080/"
        },
        "id": "WtITpNynubm1",
        "outputId": "fce49565-b37e-4b7a-9d00-bea993053d79"
      },
      "execution_count": null,
      "outputs": [
        {
          "output_type": "stream",
          "name": "stdout",
          "text": [
            "['POS']\n"
          ]
        }
      ]
    },
    {
      "cell_type": "code",
      "source": [
        "from sklearn.linear_model import LogisticRegression\n",
        "clf = LogisticRegression()\n",
        "clf.fit(X, labels)"
      ],
      "metadata": {
        "colab": {
          "base_uri": "https://localhost:8080/",
          "height": 74
        },
        "id": "t6EtyKQxu30_",
        "outputId": "471a1509-52fd-4904-d95c-ad64032fc0b3"
      },
      "execution_count": null,
      "outputs": [
        {
          "output_type": "execute_result",
          "data": {
            "text/plain": [
              "LogisticRegression()"
            ],
            "text/html": [
              "<style>#sk-container-id-2 {color: black;background-color: white;}#sk-container-id-2 pre{padding: 0;}#sk-container-id-2 div.sk-toggleable {background-color: white;}#sk-container-id-2 label.sk-toggleable__label {cursor: pointer;display: block;width: 100%;margin-bottom: 0;padding: 0.3em;box-sizing: border-box;text-align: center;}#sk-container-id-2 label.sk-toggleable__label-arrow:before {content: \"▸\";float: left;margin-right: 0.25em;color: #696969;}#sk-container-id-2 label.sk-toggleable__label-arrow:hover:before {color: black;}#sk-container-id-2 div.sk-estimator:hover label.sk-toggleable__label-arrow:before {color: black;}#sk-container-id-2 div.sk-toggleable__content {max-height: 0;max-width: 0;overflow: hidden;text-align: left;background-color: #f0f8ff;}#sk-container-id-2 div.sk-toggleable__content pre {margin: 0.2em;color: black;border-radius: 0.25em;background-color: #f0f8ff;}#sk-container-id-2 input.sk-toggleable__control:checked~div.sk-toggleable__content {max-height: 200px;max-width: 100%;overflow: auto;}#sk-container-id-2 input.sk-toggleable__control:checked~label.sk-toggleable__label-arrow:before {content: \"▾\";}#sk-container-id-2 div.sk-estimator input.sk-toggleable__control:checked~label.sk-toggleable__label {background-color: #d4ebff;}#sk-container-id-2 div.sk-label input.sk-toggleable__control:checked~label.sk-toggleable__label {background-color: #d4ebff;}#sk-container-id-2 input.sk-hidden--visually {border: 0;clip: rect(1px 1px 1px 1px);clip: rect(1px, 1px, 1px, 1px);height: 1px;margin: -1px;overflow: hidden;padding: 0;position: absolute;width: 1px;}#sk-container-id-2 div.sk-estimator {font-family: monospace;background-color: #f0f8ff;border: 1px dotted black;border-radius: 0.25em;box-sizing: border-box;margin-bottom: 0.5em;}#sk-container-id-2 div.sk-estimator:hover {background-color: #d4ebff;}#sk-container-id-2 div.sk-parallel-item::after {content: \"\";width: 100%;border-bottom: 1px solid gray;flex-grow: 1;}#sk-container-id-2 div.sk-label:hover label.sk-toggleable__label {background-color: #d4ebff;}#sk-container-id-2 div.sk-serial::before {content: \"\";position: absolute;border-left: 1px solid gray;box-sizing: border-box;top: 0;bottom: 0;left: 50%;z-index: 0;}#sk-container-id-2 div.sk-serial {display: flex;flex-direction: column;align-items: center;background-color: white;padding-right: 0.2em;padding-left: 0.2em;position: relative;}#sk-container-id-2 div.sk-item {position: relative;z-index: 1;}#sk-container-id-2 div.sk-parallel {display: flex;align-items: stretch;justify-content: center;background-color: white;position: relative;}#sk-container-id-2 div.sk-item::before, #sk-container-id-2 div.sk-parallel-item::before {content: \"\";position: absolute;border-left: 1px solid gray;box-sizing: border-box;top: 0;bottom: 0;left: 50%;z-index: -1;}#sk-container-id-2 div.sk-parallel-item {display: flex;flex-direction: column;z-index: 1;position: relative;background-color: white;}#sk-container-id-2 div.sk-parallel-item:first-child::after {align-self: flex-end;width: 50%;}#sk-container-id-2 div.sk-parallel-item:last-child::after {align-self: flex-start;width: 50%;}#sk-container-id-2 div.sk-parallel-item:only-child::after {width: 0;}#sk-container-id-2 div.sk-dashed-wrapped {border: 1px dashed gray;margin: 0 0.4em 0.5em 0.4em;box-sizing: border-box;padding-bottom: 0.4em;background-color: white;}#sk-container-id-2 div.sk-label label {font-family: monospace;font-weight: bold;display: inline-block;line-height: 1.2em;}#sk-container-id-2 div.sk-label-container {text-align: center;}#sk-container-id-2 div.sk-container {/* jupyter's `normalize.less` sets `[hidden] { display: none; }` but bootstrap.min.css set `[hidden] { display: none !important; }` so we also need the `!important` here to be able to override the default hidden behavior on the sphinx rendered scikit-learn.org. See: https://github.com/scikit-learn/scikit-learn/issues/21755 */display: inline-block !important;position: relative;}#sk-container-id-2 div.sk-text-repr-fallback {display: none;}</style><div id=\"sk-container-id-2\" class=\"sk-top-container\"><div class=\"sk-text-repr-fallback\"><pre>LogisticRegression()</pre><b>In a Jupyter environment, please rerun this cell to show the HTML representation or trust the notebook. <br />On GitHub, the HTML representation is unable to render, please try loading this page with nbviewer.org.</b></div><div class=\"sk-container\" hidden><div class=\"sk-item\"><div class=\"sk-estimator sk-toggleable\"><input class=\"sk-toggleable__control sk-hidden--visually\" id=\"sk-estimator-id-2\" type=\"checkbox\" checked><label for=\"sk-estimator-id-2\" class=\"sk-toggleable__label sk-toggleable__label-arrow\">LogisticRegression</label><div class=\"sk-toggleable__content\"><pre>LogisticRegression()</pre></div></div></div></div></div>"
            ]
          },
          "metadata": {},
          "execution_count": 14
        }
      ]
    },
    {
      "cell_type": "code",
      "source": [
        "print(clf.predict(test1_vec))"
      ],
      "metadata": {
        "colab": {
          "base_uri": "https://localhost:8080/"
        },
        "id": "5WYLvKPyvNtF",
        "outputId": "9420f06f-9be1-4b0c-b7ba-be5888e73299"
      },
      "execution_count": null,
      "outputs": [
        {
          "output_type": "stream",
          "name": "stdout",
          "text": [
            "['POS']\n"
          ]
        }
      ]
    },
    {
      "cell_type": "code",
      "source": [
        "import numpy as np\n",
        "odds = np.exp(clf.coef_)\n",
        "words = vectorizer.get_feature_names_out()"
      ],
      "metadata": {
        "id": "6xIYHPvowZqn"
      },
      "execution_count": null,
      "outputs": []
    },
    {
      "cell_type": "code",
      "source": [
        "odds[0]"
      ],
      "metadata": {
        "colab": {
          "base_uri": "https://localhost:8080/"
        },
        "id": "knrla0dryMlz",
        "outputId": "ffec3709-0c84-4e95-a237-44157a7a1a2f"
      },
      "execution_count": null,
      "outputs": [
        {
          "output_type": "execute_result",
          "data": {
            "text/plain": [
              "array([1.15360155, 0.83827647, 0.82914019, 0.8668889 , 0.84958543,\n",
              "       0.83827647, 0.82914019, 0.83827647, 0.82914019, 1.26612674,\n",
              "       0.82914019, 1.15360155, 1.27241013, 1.15932652, 1.09960212,\n",
              "       0.65725396, 0.83827647, 0.7768709 , 0.91441176, 0.8668889 ,\n",
              "       0.91441176, 1.20686007, 1.39914488, 1.09754251, 1.09754251,\n",
              "       1.09960212, 1.05486682, 1.15360155, 1.09960212, 1.2685027 ,\n",
              "       0.8668889 , 0.7768709 , 0.83827647, 0.84958543, 1.15932652,\n",
              "       0.79269341, 1.09960212, 1.35302491, 0.91441176, 0.76652987,\n",
              "       1.16697117, 0.84958543, 1.05486682, 1.16008725, 0.91441176,\n",
              "       1.15932652, 0.92004406, 0.80833586, 0.63556072, 1.09754251,\n",
              "       0.73649618, 1.09754251, 0.82914019, 1.27241013, 0.79269341,\n",
              "       1.15360155, 1.32359003, 1.15360155, 0.83827647, 1.59738795,\n",
              "       0.84958543, 0.83827647])"
            ]
          },
          "metadata": {},
          "execution_count": 17
        }
      ]
    },
    {
      "cell_type": "code",
      "source": [
        "words"
      ],
      "metadata": {
        "colab": {
          "base_uri": "https://localhost:8080/"
        },
        "id": "mfSioDVSxDK1",
        "outputId": "74a67960-c52d-40d1-8b42-06b038651d80"
      },
      "execution_count": null,
      "outputs": [
        {
          "output_type": "execute_result",
          "data": {
            "text/plain": [
              "array(['all', 'always', 'and', 'are', 'as', 'at', 'badly', 'disrespect',\n",
              "       'disrespectful', 'easy', 'everyone', 'everything', 'explains',\n",
              "       'great', 'have', 'he', 'her', 'him', 'his', 'humans', 'if', 'in',\n",
              "       'is', 'lady', 'lessons', 'life', 'like', 'makes', 'most', 'my',\n",
              "       'needs', 'not', 'people', 'please', 'really', 'respect', 'seen',\n",
              "       'she', 'should', 'students', 'teacher', 'tell', 'that', 'the',\n",
              "       'then', 'things', 'this', 'to', 'treats', 'understand', 'us',\n",
              "       'very', 'was', 'way', 'we', 'were', 'what', 'wish', 'with',\n",
              "       'wonderful', 'yell', 'yells'], dtype=object)"
            ]
          },
          "metadata": {},
          "execution_count": 18
        }
      ]
    },
    {
      "cell_type": "code",
      "source": [
        "for x, y in sorted(zip(odds[0], words)):\n",
        "  print(x, y)"
      ],
      "metadata": {
        "colab": {
          "base_uri": "https://localhost:8080/"
        },
        "id": "9d5r__p8yQZV",
        "outputId": "223d9342-91b4-46cb-c65f-65796e506991"
      },
      "execution_count": null,
      "outputs": [
        {
          "output_type": "stream",
          "name": "stdout",
          "text": [
            "0.6355607189079368 treats\n",
            "0.6572539649389394 he\n",
            "0.7364961780017127 us\n",
            "0.7665298650476123 students\n",
            "0.7768709045695091 him\n",
            "0.7768709045695091 not\n",
            "0.7926934092344861 respect\n",
            "0.7926934092344861 we\n",
            "0.8083358644401715 to\n",
            "0.8291401912545957 and\n",
            "0.8291401912545957 badly\n",
            "0.8291401912545957 disrespectful\n",
            "0.8291401912545957 everyone\n",
            "0.8291401912545957 was\n",
            "0.8382764721750412 always\n",
            "0.8382764721750412 at\n",
            "0.8382764721750412 disrespect\n",
            "0.8382764721750412 her\n",
            "0.8382764721750412 people\n",
            "0.8382764721750412 with\n",
            "0.8382764721750412 yells\n",
            "0.8495854250603928 as\n",
            "0.8495854250603928 please\n",
            "0.8495854250603928 tell\n",
            "0.8495854250603928 yell\n",
            "0.8668889040196975 are\n",
            "0.8668889040196975 humans\n",
            "0.8668889040196975 needs\n",
            "0.9144117609059562 his\n",
            "0.9144117609059562 if\n",
            "0.9144117609059562 should\n",
            "0.9144117609059562 then\n",
            "0.9200440640628734 this\n",
            "1.054866821582904 like\n",
            "1.054866821582904 that\n",
            "1.09754251085644 lady\n",
            "1.09754251085644 lessons\n",
            "1.09754251085644 understand\n",
            "1.09754251085644 very\n",
            "1.0996021158769624 have\n",
            "1.0996021158769624 life\n",
            "1.0996021158769624 most\n",
            "1.0996021158769624 seen\n",
            "1.1536015465699956 all\n",
            "1.1536015465699956 everything\n",
            "1.1536015465699956 makes\n",
            "1.1536015465699956 were\n",
            "1.1536015465699956 wish\n",
            "1.1593265152207992 great\n",
            "1.1593265152207992 really\n",
            "1.1593265152207992 things\n",
            "1.1600872501368993 the\n",
            "1.166971171716513 teacher\n",
            "1.2068600672026555 in\n",
            "1.2661267379503054 easy\n",
            "1.2685027014873032 my\n",
            "1.2724101344178829 explains\n",
            "1.2724101344178829 way\n",
            "1.3235900286037787 what\n",
            "1.35302491214572 she\n",
            "1.3991448760691942 is\n",
            "1.5973879508695212 wonderful\n"
          ]
        }
      ]
    }
  ]
}