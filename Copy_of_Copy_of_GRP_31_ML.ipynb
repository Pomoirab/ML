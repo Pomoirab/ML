{
  "nbformat": 4,
  "nbformat_minor": 0,
  "metadata": {
    "colab": {
      "provenance": [],
      "authorship_tag": "ABX9TyNfz6kkBHpMvKY62Yq24ns8",
      "include_colab_link": true
    },
    "kernelspec": {
      "name": "python3",
      "display_name": "Python 3"
    },
    "language_info": {
      "name": "python"
    }
  },
  "cells": [
    {
      "cell_type": "markdown",
      "metadata": {
        "id": "view-in-github",
        "colab_type": "text"
      },
      "source": [
        "<a href=\"https://colab.research.google.com/github/Pomoirab/ML/blob/main/Copy_of_Copy_of_GRP_31_ML.ipynb\" target=\"_parent\"><img src=\"https://colab.research.google.com/assets/colab-badge.svg\" alt=\"Open In Colab\"/></a>"
      ]
    },
    {
      "cell_type": "markdown",
      "source": [
        "# Importing/installing the necessary packages"
      ],
      "metadata": {
        "id": "g5vhtxOXsO1p"
      }
    },
    {
      "cell_type": "code",
      "execution_count": null,
      "metadata": {
        "id": "Yu6lh5apOBF9"
      },
      "outputs": [],
      "source": [
        "import pandas as pd"
      ]
    },
    {
      "cell_type": "markdown",
      "source": [
        "# Mounting on Google Drive"
      ],
      "metadata": {
        "id": "LvmRFPVjsre_"
      }
    },
    {
      "cell_type": "code",
      "source": [
        "from google.colab import drive\n",
        "drive.mount('/content/drive')"
      ],
      "metadata": {
        "colab": {
          "base_uri": "https://localhost:8080/"
        },
        "id": "uBIqfz0YOpZI",
        "outputId": "03f11a16-49a8-492b-8a8b-2e1c15ea700e"
      },
      "execution_count": null,
      "outputs": [
        {
          "output_type": "stream",
          "name": "stdout",
          "text": [
            "Drive already mounted at /content/drive; to attempt to forcibly remount, call drive.mount(\"/content/drive\", force_remount=True).\n"
          ]
        }
      ]
    },
    {
      "cell_type": "markdown",
      "source": [
        "# Getting the data from Google Drive"
      ],
      "metadata": {
        "id": "kz7TAXyvr-R5"
      }
    },
    {
      "cell_type": "code",
      "source": [
        "path = \"/content/drive/MyDrive/Colab Notebooks/Data/BankChurnersDataSet.csv\"\n",
        "df=pd.read_csv(path)"
      ],
      "metadata": {
        "id": "xBpS1z-8PMfV"
      },
      "execution_count": null,
      "outputs": []
    },
    {
      "cell_type": "code",
      "source": [
        "print(df.info(),'\\n')\n",
        "print(df.head(),'\\n')\n",
        "print(df.describe(),'\\n')"
      ],
      "metadata": {
        "colab": {
          "base_uri": "https://localhost:8080/"
        },
        "id": "-8DiW-s5PjlU",
        "outputId": "9b283d9c-fa07-467e-94aa-7e9975cb58fd"
      },
      "execution_count": null,
      "outputs": [
        {
          "output_type": "stream",
          "name": "stdout",
          "text": [
            "<class 'pandas.core.frame.DataFrame'>\n",
            "RangeIndex: 10127 entries, 0 to 10126\n",
            "Data columns (total 23 columns):\n",
            " #   Column                                                                                                                              Non-Null Count  Dtype  \n",
            "---  ------                                                                                                                              --------------  -----  \n",
            " 0   CLIENTNUM                                                                                                                           10127 non-null  int64  \n",
            " 1   Attrition_Flag                                                                                                                      10127 non-null  object \n",
            " 2   Customer_Age                                                                                                                        10127 non-null  int64  \n",
            " 3   Gender                                                                                                                              10127 non-null  object \n",
            " 4   Dependent_count                                                                                                                     10127 non-null  int64  \n",
            " 5   Education_Level                                                                                                                     10127 non-null  object \n",
            " 6   Marital_Status                                                                                                                      10127 non-null  object \n",
            " 7   Income_Category                                                                                                                     10127 non-null  object \n",
            " 8   Card_Category                                                                                                                       10127 non-null  object \n",
            " 9   Months_on_book                                                                                                                      10127 non-null  int64  \n",
            " 10  Total_Relationship_Count                                                                                                            10127 non-null  int64  \n",
            " 11  Months_Inactive_12_mon                                                                                                              10127 non-null  int64  \n",
            " 12  Contacts_Count_12_mon                                                                                                               10127 non-null  int64  \n",
            " 13  Credit_Limit                                                                                                                        10127 non-null  float64\n",
            " 14  Total_Revolving_Bal                                                                                                                 10127 non-null  int64  \n",
            " 15  Avg_Open_To_Buy                                                                                                                     10127 non-null  float64\n",
            " 16  Total_Amt_Chng_Q4_Q1                                                                                                                10127 non-null  float64\n",
            " 17  Total_Trans_Amt                                                                                                                     10127 non-null  int64  \n",
            " 18  Total_Trans_Ct                                                                                                                      10127 non-null  int64  \n",
            " 19  Total_Ct_Chng_Q4_Q1                                                                                                                 10127 non-null  float64\n",
            " 20  Avg_Utilization_Ratio                                                                                                               10127 non-null  float64\n",
            " 21  Naive_Bayes_Classifier_Attrition_Flag_Card_Category_Contacts_Count_12_mon_Dependent_count_Education_Level_Months_Inactive_12_mon_1  10127 non-null  float64\n",
            " 22  Naive_Bayes_Classifier_Attrition_Flag_Card_Category_Contacts_Count_12_mon_Dependent_count_Education_Level_Months_Inactive_12_mon_2  10127 non-null  float64\n",
            "dtypes: float64(7), int64(10), object(6)\n",
            "memory usage: 1.8+ MB\n",
            "None \n",
            "\n",
            "   CLIENTNUM     Attrition_Flag  Customer_Age Gender  Dependent_count  \\\n",
            "0  768805383  Existing Customer            45      M                3   \n",
            "1  818770008  Existing Customer            49      F                5   \n",
            "2  713982108  Existing Customer            51      M                3   \n",
            "3  769911858  Existing Customer            40      F                4   \n",
            "4  709106358  Existing Customer            40      M                3   \n",
            "\n",
            "  Education_Level Marital_Status Income_Category Card_Category  \\\n",
            "0     High School        Married     $60K - $80K          Blue   \n",
            "1        Graduate         Single  Less than $40K          Blue   \n",
            "2        Graduate        Married    $80K - $120K          Blue   \n",
            "3     High School        Unknown  Less than $40K          Blue   \n",
            "4      Uneducated        Married     $60K - $80K          Blue   \n",
            "\n",
            "   Months_on_book  ...  Credit_Limit  Total_Revolving_Bal  Avg_Open_To_Buy  \\\n",
            "0              39  ...       12691.0                  777          11914.0   \n",
            "1              44  ...        8256.0                  864           7392.0   \n",
            "2              36  ...        3418.0                    0           3418.0   \n",
            "3              34  ...        3313.0                 2517            796.0   \n",
            "4              21  ...        4716.0                    0           4716.0   \n",
            "\n",
            "   Total_Amt_Chng_Q4_Q1  Total_Trans_Amt  Total_Trans_Ct  Total_Ct_Chng_Q4_Q1  \\\n",
            "0                 1.335             1144              42                1.625   \n",
            "1                 1.541             1291              33                3.714   \n",
            "2                 2.594             1887              20                2.333   \n",
            "3                 1.405             1171              20                2.333   \n",
            "4                 2.175              816              28                2.500   \n",
            "\n",
            "   Avg_Utilization_Ratio  \\\n",
            "0                  0.061   \n",
            "1                  0.105   \n",
            "2                  0.000   \n",
            "3                  0.760   \n",
            "4                  0.000   \n",
            "\n",
            "   Naive_Bayes_Classifier_Attrition_Flag_Card_Category_Contacts_Count_12_mon_Dependent_count_Education_Level_Months_Inactive_12_mon_1  \\\n",
            "0                                           0.000093                                                                                    \n",
            "1                                           0.000057                                                                                    \n",
            "2                                           0.000021                                                                                    \n",
            "3                                           0.000134                                                                                    \n",
            "4                                           0.000022                                                                                    \n",
            "\n",
            "   Naive_Bayes_Classifier_Attrition_Flag_Card_Category_Contacts_Count_12_mon_Dependent_count_Education_Level_Months_Inactive_12_mon_2  \n",
            "0                                            0.99991                                                                                   \n",
            "1                                            0.99994                                                                                   \n",
            "2                                            0.99998                                                                                   \n",
            "3                                            0.99987                                                                                   \n",
            "4                                            0.99998                                                                                   \n",
            "\n",
            "[5 rows x 23 columns] \n",
            "\n",
            "          CLIENTNUM  Customer_Age  Dependent_count  Months_on_book  \\\n",
            "count  1.012700e+04  10127.000000     10127.000000    10127.000000   \n",
            "mean   7.391776e+08     46.325960         2.346203       35.928409   \n",
            "std    3.690378e+07      8.016814         1.298908        7.986416   \n",
            "min    7.080821e+08     26.000000         0.000000       13.000000   \n",
            "25%    7.130368e+08     41.000000         1.000000       31.000000   \n",
            "50%    7.179264e+08     46.000000         2.000000       36.000000   \n",
            "75%    7.731435e+08     52.000000         3.000000       40.000000   \n",
            "max    8.283431e+08     73.000000         5.000000       56.000000   \n",
            "\n",
            "       Total_Relationship_Count  Months_Inactive_12_mon  \\\n",
            "count              10127.000000            10127.000000   \n",
            "mean                   3.812580                2.341167   \n",
            "std                    1.554408                1.010622   \n",
            "min                    1.000000                0.000000   \n",
            "25%                    3.000000                2.000000   \n",
            "50%                    4.000000                2.000000   \n",
            "75%                    5.000000                3.000000   \n",
            "max                    6.000000                6.000000   \n",
            "\n",
            "       Contacts_Count_12_mon  Credit_Limit  Total_Revolving_Bal  \\\n",
            "count           10127.000000  10127.000000         10127.000000   \n",
            "mean                2.455317   8631.953698          1162.814061   \n",
            "std                 1.106225   9088.776650           814.987335   \n",
            "min                 0.000000   1438.300000             0.000000   \n",
            "25%                 2.000000   2555.000000           359.000000   \n",
            "50%                 2.000000   4549.000000          1276.000000   \n",
            "75%                 3.000000  11067.500000          1784.000000   \n",
            "max                 6.000000  34516.000000          2517.000000   \n",
            "\n",
            "       Avg_Open_To_Buy  Total_Amt_Chng_Q4_Q1  Total_Trans_Amt  Total_Trans_Ct  \\\n",
            "count     10127.000000          10127.000000     10127.000000    10127.000000   \n",
            "mean       7469.139637              0.759941      4404.086304       64.858695   \n",
            "std        9090.685324              0.219207      3397.129254       23.472570   \n",
            "min           3.000000              0.000000       510.000000       10.000000   \n",
            "25%        1324.500000              0.631000      2155.500000       45.000000   \n",
            "50%        3474.000000              0.736000      3899.000000       67.000000   \n",
            "75%        9859.000000              0.859000      4741.000000       81.000000   \n",
            "max       34516.000000              3.397000     18484.000000      139.000000   \n",
            "\n",
            "       Total_Ct_Chng_Q4_Q1  Avg_Utilization_Ratio  \\\n",
            "count         10127.000000           10127.000000   \n",
            "mean              0.712222               0.274894   \n",
            "std               0.238086               0.275691   \n",
            "min               0.000000               0.000000   \n",
            "25%               0.582000               0.023000   \n",
            "50%               0.702000               0.176000   \n",
            "75%               0.818000               0.503000   \n",
            "max               3.714000               0.999000   \n",
            "\n",
            "       Naive_Bayes_Classifier_Attrition_Flag_Card_Category_Contacts_Count_12_mon_Dependent_count_Education_Level_Months_Inactive_12_mon_1  \\\n",
            "count                                       10127.000000                                                                                    \n",
            "mean                                            0.159997                                                                                    \n",
            "std                                             0.365301                                                                                    \n",
            "min                                             0.000008                                                                                    \n",
            "25%                                             0.000099                                                                                    \n",
            "50%                                             0.000181                                                                                    \n",
            "75%                                             0.000337                                                                                    \n",
            "max                                             0.999580                                                                                    \n",
            "\n",
            "       Naive_Bayes_Classifier_Attrition_Flag_Card_Category_Contacts_Count_12_mon_Dependent_count_Education_Level_Months_Inactive_12_mon_2  \n",
            "count                                       10127.000000                                                                                   \n",
            "mean                                            0.840003                                                                                   \n",
            "std                                             0.365301                                                                                   \n",
            "min                                             0.000420                                                                                   \n",
            "25%                                             0.999660                                                                                   \n",
            "50%                                             0.999820                                                                                   \n",
            "75%                                             0.999900                                                                                   \n",
            "max                                             0.999990                                                                                    \n",
            "\n"
          ]
        }
      ]
    },
    {
      "cell_type": "markdown",
      "source": [
        "# Calculating summary statistics for categorical data"
      ],
      "metadata": {
        "id": "GpO_f-RhrEwO"
      }
    },
    {
      "cell_type": "code",
      "source": [
        "for col in df.select_dtypes(include='object').columns:\n",
        "    print(f\"{col}:\\n{df[col].value_counts()}\\n\")"
      ],
      "metadata": {
        "colab": {
          "base_uri": "https://localhost:8080/"
        },
        "id": "_lh469miPs3b",
        "outputId": "6087e633-a78b-40f7-eddf-0a0bd3791dc1"
      },
      "execution_count": null,
      "outputs": [
        {
          "output_type": "stream",
          "name": "stdout",
          "text": [
            "Attrition_Flag:\n",
            "Existing Customer    8500\n",
            "Attrited Customer    1627\n",
            "Name: Attrition_Flag, dtype: int64\n",
            "\n",
            "Gender:\n",
            "F    5358\n",
            "M    4769\n",
            "Name: Gender, dtype: int64\n",
            "\n",
            "Education_Level:\n",
            "Graduate         3128\n",
            "High School      2013\n",
            "Unknown          1519\n",
            "Uneducated       1487\n",
            "College          1013\n",
            "Post-Graduate     516\n",
            "Doctorate         451\n",
            "Name: Education_Level, dtype: int64\n",
            "\n",
            "Marital_Status:\n",
            "Married     4687\n",
            "Single      3943\n",
            "Unknown      749\n",
            "Divorced     748\n",
            "Name: Marital_Status, dtype: int64\n",
            "\n",
            "Income_Category:\n",
            "Less than $40K    3561\n",
            "$40K - $60K       1790\n",
            "$80K - $120K      1535\n",
            "$60K - $80K       1402\n",
            "Unknown           1112\n",
            "$120K +            727\n",
            "Name: Income_Category, dtype: int64\n",
            "\n",
            "Card_Category:\n",
            "Blue        9436\n",
            "Silver       555\n",
            "Gold         116\n",
            "Platinum      20\n",
            "Name: Card_Category, dtype: int64\n",
            "\n"
          ]
        }
      ]
    },
    {
      "cell_type": "markdown",
      "source": [
        "# Dropping unnecessary features"
      ],
      "metadata": {
        "id": "0N0ILqCkqDI5"
      }
    },
    {
      "cell_type": "code",
      "source": [
        "df.drop('Attrition_Flag', axis=1, inplace=True)\n",
        "df.info()\n",
        "     "
      ],
      "metadata": {
        "colab": {
          "base_uri": "https://localhost:8080/"
        },
        "id": "INyl8j2u1Fls",
        "outputId": "0127cd07-45d8-4aeb-9d4d-8f857acee335"
      },
      "execution_count": null,
      "outputs": [
        {
          "output_type": "stream",
          "name": "stdout",
          "text": [
            "<class 'pandas.core.frame.DataFrame'>\n",
            "RangeIndex: 10127 entries, 0 to 10126\n",
            "Data columns (total 22 columns):\n",
            " #   Column                                                                                                                              Non-Null Count  Dtype  \n",
            "---  ------                                                                                                                              --------------  -----  \n",
            " 0   CLIENTNUM                                                                                                                           10127 non-null  int64  \n",
            " 1   Customer_Age                                                                                                                        10127 non-null  int64  \n",
            " 2   Gender                                                                                                                              10127 non-null  object \n",
            " 3   Dependent_count                                                                                                                     10127 non-null  int64  \n",
            " 4   Education_Level                                                                                                                     10127 non-null  object \n",
            " 5   Marital_Status                                                                                                                      10127 non-null  object \n",
            " 6   Income_Category                                                                                                                     10127 non-null  object \n",
            " 7   Card_Category                                                                                                                       10127 non-null  object \n",
            " 8   Months_on_book                                                                                                                      10127 non-null  int64  \n",
            " 9   Total_Relationship_Count                                                                                                            10127 non-null  int64  \n",
            " 10  Months_Inactive_12_mon                                                                                                              10127 non-null  int64  \n",
            " 11  Contacts_Count_12_mon                                                                                                               10127 non-null  int64  \n",
            " 12  Credit_Limit                                                                                                                        10127 non-null  float64\n",
            " 13  Total_Revolving_Bal                                                                                                                 10127 non-null  int64  \n",
            " 14  Avg_Open_To_Buy                                                                                                                     10127 non-null  float64\n",
            " 15  Total_Amt_Chng_Q4_Q1                                                                                                                10127 non-null  float64\n",
            " 16  Total_Trans_Amt                                                                                                                     10127 non-null  int64  \n",
            " 17  Total_Trans_Ct                                                                                                                      10127 non-null  int64  \n",
            " 18  Total_Ct_Chng_Q4_Q1                                                                                                                 10127 non-null  float64\n",
            " 19  Avg_Utilization_Ratio                                                                                                               10127 non-null  float64\n",
            " 20  Naive_Bayes_Classifier_Attrition_Flag_Card_Category_Contacts_Count_12_mon_Dependent_count_Education_Level_Months_Inactive_12_mon_1  10127 non-null  float64\n",
            " 21  Naive_Bayes_Classifier_Attrition_Flag_Card_Category_Contacts_Count_12_mon_Dependent_count_Education_Level_Months_Inactive_12_mon_2  10127 non-null  float64\n",
            "dtypes: float64(7), int64(10), object(5)\n",
            "memory usage: 1.7+ MB\n"
          ]
        }
      ]
    },
    {
      "cell_type": "code",
      "source": [
        "df.drop('Naive_Bayes_Classifier_Attrition_Flag_Card_Category_Contacts_Count_12_mon_Dependent_count_Education_Level_Months_Inactive_12_mon_1', axis=1, inplace=True)\n",
        "df.info()"
      ],
      "metadata": {
        "colab": {
          "base_uri": "https://localhost:8080/"
        },
        "id": "XmusY_Iu37sh",
        "outputId": "837383df-2db0-431b-fe78-2bb8529e466f"
      },
      "execution_count": null,
      "outputs": [
        {
          "output_type": "stream",
          "name": "stdout",
          "text": [
            "<class 'pandas.core.frame.DataFrame'>\n",
            "RangeIndex: 10127 entries, 0 to 10126\n",
            "Data columns (total 21 columns):\n",
            " #   Column                                                                                                                              Non-Null Count  Dtype  \n",
            "---  ------                                                                                                                              --------------  -----  \n",
            " 0   CLIENTNUM                                                                                                                           10127 non-null  int64  \n",
            " 1   Customer_Age                                                                                                                        10127 non-null  int64  \n",
            " 2   Gender                                                                                                                              10127 non-null  object \n",
            " 3   Dependent_count                                                                                                                     10127 non-null  int64  \n",
            " 4   Education_Level                                                                                                                     10127 non-null  object \n",
            " 5   Marital_Status                                                                                                                      10127 non-null  object \n",
            " 6   Income_Category                                                                                                                     10127 non-null  object \n",
            " 7   Card_Category                                                                                                                       10127 non-null  object \n",
            " 8   Months_on_book                                                                                                                      10127 non-null  int64  \n",
            " 9   Total_Relationship_Count                                                                                                            10127 non-null  int64  \n",
            " 10  Months_Inactive_12_mon                                                                                                              10127 non-null  int64  \n",
            " 11  Contacts_Count_12_mon                                                                                                               10127 non-null  int64  \n",
            " 12  Credit_Limit                                                                                                                        10127 non-null  float64\n",
            " 13  Total_Revolving_Bal                                                                                                                 10127 non-null  int64  \n",
            " 14  Avg_Open_To_Buy                                                                                                                     10127 non-null  float64\n",
            " 15  Total_Amt_Chng_Q4_Q1                                                                                                                10127 non-null  float64\n",
            " 16  Total_Trans_Amt                                                                                                                     10127 non-null  int64  \n",
            " 17  Total_Trans_Ct                                                                                                                      10127 non-null  int64  \n",
            " 18  Total_Ct_Chng_Q4_Q1                                                                                                                 10127 non-null  float64\n",
            " 19  Avg_Utilization_Ratio                                                                                                               10127 non-null  float64\n",
            " 20  Naive_Bayes_Classifier_Attrition_Flag_Card_Category_Contacts_Count_12_mon_Dependent_count_Education_Level_Months_Inactive_12_mon_2  10127 non-null  float64\n",
            "dtypes: float64(6), int64(10), object(5)\n",
            "memory usage: 1.6+ MB\n"
          ]
        }
      ]
    },
    {
      "cell_type": "code",
      "source": [
        "df.drop('Naive_Bayes_Classifier_Attrition_Flag_Card_Category_Contacts_Count_12_mon_Dependent_count_Education_Level_Months_Inactive_12_mon_2', axis=1, inplace=True)\n",
        "df.info()"
      ],
      "metadata": {
        "colab": {
          "base_uri": "https://localhost:8080/"
        },
        "id": "y2zX7NNk4N3i",
        "outputId": "dbaa15d6-43fc-49e1-8430-b8eb4f4abd63"
      },
      "execution_count": null,
      "outputs": [
        {
          "output_type": "stream",
          "name": "stdout",
          "text": [
            "<class 'pandas.core.frame.DataFrame'>\n",
            "RangeIndex: 10127 entries, 0 to 10126\n",
            "Data columns (total 20 columns):\n",
            " #   Column                    Non-Null Count  Dtype  \n",
            "---  ------                    --------------  -----  \n",
            " 0   CLIENTNUM                 10127 non-null  int64  \n",
            " 1   Customer_Age              10127 non-null  int64  \n",
            " 2   Gender                    10127 non-null  object \n",
            " 3   Dependent_count           10127 non-null  int64  \n",
            " 4   Education_Level           10127 non-null  object \n",
            " 5   Marital_Status            10127 non-null  object \n",
            " 6   Income_Category           10127 non-null  object \n",
            " 7   Card_Category             10127 non-null  object \n",
            " 8   Months_on_book            10127 non-null  int64  \n",
            " 9   Total_Relationship_Count  10127 non-null  int64  \n",
            " 10  Months_Inactive_12_mon    10127 non-null  int64  \n",
            " 11  Contacts_Count_12_mon     10127 non-null  int64  \n",
            " 12  Credit_Limit              10127 non-null  float64\n",
            " 13  Total_Revolving_Bal       10127 non-null  int64  \n",
            " 14  Avg_Open_To_Buy           10127 non-null  float64\n",
            " 15  Total_Amt_Chng_Q4_Q1      10127 non-null  float64\n",
            " 16  Total_Trans_Amt           10127 non-null  int64  \n",
            " 17  Total_Trans_Ct            10127 non-null  int64  \n",
            " 18  Total_Ct_Chng_Q4_Q1       10127 non-null  float64\n",
            " 19  Avg_Utilization_Ratio     10127 non-null  float64\n",
            "dtypes: float64(5), int64(10), object(5)\n",
            "memory usage: 1.5+ MB\n"
          ]
        }
      ]
    },
    {
      "cell_type": "markdown",
      "source": [
        "# Missing Data: Fill missing values with the mean for numerical columns"
      ],
      "metadata": {
        "id": "5exYS3Esp6GV"
      }
    },
    {
      "cell_type": "code",
      "source": [
        "for col in df.select_dtypes(include=['int', 'float']).columns:\n",
        "    df[col].fillna(df[col].mean(), inplace=True)\n",
        "    \n",
        "print(df.describe(),'\\n')"
      ],
      "metadata": {
        "colab": {
          "base_uri": "https://localhost:8080/"
        },
        "id": "Db7vGwSiRuzv",
        "outputId": "a59178a5-8211-491a-b212-17cc10682f87"
      },
      "execution_count": null,
      "outputs": [
        {
          "output_type": "stream",
          "name": "stdout",
          "text": [
            "          CLIENTNUM  Customer_Age  Dependent_count  Months_on_book  \\\n",
            "count  1.012700e+04  10127.000000     10127.000000    10127.000000   \n",
            "mean   7.391776e+08     46.325960         2.346203       35.928409   \n",
            "std    3.690378e+07      8.016814         1.298908        7.986416   \n",
            "min    7.080821e+08     26.000000         0.000000       13.000000   \n",
            "25%    7.130368e+08     41.000000         1.000000       31.000000   \n",
            "50%    7.179264e+08     46.000000         2.000000       36.000000   \n",
            "75%    7.731435e+08     52.000000         3.000000       40.000000   \n",
            "max    8.283431e+08     73.000000         5.000000       56.000000   \n",
            "\n",
            "       Total_Relationship_Count  Months_Inactive_12_mon  \\\n",
            "count              10127.000000            10127.000000   \n",
            "mean                   3.812580                2.341167   \n",
            "std                    1.554408                1.010622   \n",
            "min                    1.000000                0.000000   \n",
            "25%                    3.000000                2.000000   \n",
            "50%                    4.000000                2.000000   \n",
            "75%                    5.000000                3.000000   \n",
            "max                    6.000000                6.000000   \n",
            "\n",
            "       Contacts_Count_12_mon  Credit_Limit  Total_Revolving_Bal  \\\n",
            "count           10127.000000  10127.000000         10127.000000   \n",
            "mean                2.455317   8631.953698          1162.814061   \n",
            "std                 1.106225   9088.776650           814.987335   \n",
            "min                 0.000000   1438.300000             0.000000   \n",
            "25%                 2.000000   2555.000000           359.000000   \n",
            "50%                 2.000000   4549.000000          1276.000000   \n",
            "75%                 3.000000  11067.500000          1784.000000   \n",
            "max                 6.000000  34516.000000          2517.000000   \n",
            "\n",
            "       Avg_Open_To_Buy  Total_Amt_Chng_Q4_Q1  Total_Trans_Amt  Total_Trans_Ct  \\\n",
            "count     10127.000000          10127.000000     10127.000000    10127.000000   \n",
            "mean       7469.139637              0.759941      4404.086304       64.858695   \n",
            "std        9090.685324              0.219207      3397.129254       23.472570   \n",
            "min           3.000000              0.000000       510.000000       10.000000   \n",
            "25%        1324.500000              0.631000      2155.500000       45.000000   \n",
            "50%        3474.000000              0.736000      3899.000000       67.000000   \n",
            "75%        9859.000000              0.859000      4741.000000       81.000000   \n",
            "max       34516.000000              3.397000     18484.000000      139.000000   \n",
            "\n",
            "       Total_Ct_Chng_Q4_Q1  Avg_Utilization_Ratio  \n",
            "count         10127.000000           10127.000000  \n",
            "mean              0.712222               0.274894  \n",
            "std               0.238086               0.275691  \n",
            "min               0.000000               0.000000  \n",
            "25%               0.582000               0.023000  \n",
            "50%               0.702000               0.176000  \n",
            "75%               0.818000               0.503000  \n",
            "max               3.714000               0.999000   \n",
            "\n"
          ]
        }
      ]
    },
    {
      "cell_type": "markdown",
      "source": [
        "# Missing Data: Fill missing values with the mode for categorical columns"
      ],
      "metadata": {
        "id": "2RYNYRw5pqAA"
      }
    },
    {
      "cell_type": "code",
      "source": [
        "for col in df.select_dtypes(include='object').columns:\n",
        "    df[col].fillna(df[col].mode()[0], inplace=True)"
      ],
      "metadata": {
        "id": "6epFR78OR9_K"
      },
      "execution_count": null,
      "outputs": []
    },
    {
      "cell_type": "markdown",
      "source": [
        "# Calculating summary statistics for categorical data"
      ],
      "metadata": {
        "id": "wE1VIsInpf20"
      }
    },
    {
      "cell_type": "code",
      "source": [
        "for col in df.select_dtypes(include='object').columns:\n",
        "    print(f\"{col}:\\n{df[col].value_counts()}\\n\")"
      ],
      "metadata": {
        "colab": {
          "base_uri": "https://localhost:8080/"
        },
        "id": "MmRDn_zQSI1L",
        "outputId": "630cccc8-39ab-44a3-a552-283f51d8ab41"
      },
      "execution_count": null,
      "outputs": [
        {
          "output_type": "stream",
          "name": "stdout",
          "text": [
            "Gender:\n",
            "F    5358\n",
            "M    4769\n",
            "Name: Gender, dtype: int64\n",
            "\n",
            "Education_Level:\n",
            "Graduate         3128\n",
            "High School      2013\n",
            "Unknown          1519\n",
            "Uneducated       1487\n",
            "College          1013\n",
            "Post-Graduate     516\n",
            "Doctorate         451\n",
            "Name: Education_Level, dtype: int64\n",
            "\n",
            "Marital_Status:\n",
            "Married     4687\n",
            "Single      3943\n",
            "Unknown      749\n",
            "Divorced     748\n",
            "Name: Marital_Status, dtype: int64\n",
            "\n",
            "Income_Category:\n",
            "Less than $40K    3561\n",
            "$40K - $60K       1790\n",
            "$80K - $120K      1535\n",
            "$60K - $80K       1402\n",
            "Unknown           1112\n",
            "$120K +            727\n",
            "Name: Income_Category, dtype: int64\n",
            "\n",
            "Card_Category:\n",
            "Blue        9436\n",
            "Silver       555\n",
            "Gold         116\n",
            "Platinum      20\n",
            "Name: Card_Category, dtype: int64\n",
            "\n"
          ]
        }
      ]
    },
    {
      "cell_type": "markdown",
      "source": [
        "# Displaying a box plot for Customer Age"
      ],
      "metadata": {
        "id": "S_05iaNIo1c7"
      }
    },
    {
      "cell_type": "code",
      "source": [
        "import matplotlib.pyplot as plt\n",
        "\n",
        "plt.boxplot(df['Customer_Age'],vert=False)\n",
        "plt.title('Box plot of Customer_Age')\n",
        "plt.ylabel('Customer_Age')\n",
        "plt.show()\n",
        "print(df.Customer_Age.describe(),'\\n')"
      ],
      "metadata": {
        "colab": {
          "base_uri": "https://localhost:8080/",
          "height": 626
        },
        "id": "6sfAXonYS4P5",
        "outputId": "45f316a7-6830-4494-c102-8ec0debb10fb"
      },
      "execution_count": null,
      "outputs": [
        {
          "output_type": "display_data",
          "data": {
            "text/plain": [
              "<Figure size 640x480 with 1 Axes>"
            ],
            "image/png": "[encoded data removed]"
          },
          "metadata": {}
        },
        {
          "output_type": "stream",
          "name": "stdout",
          "text": [
            "count    10127.000000\n",
            "mean        46.325960\n",
            "std          8.016814\n",
            "min         26.000000\n",
            "25%         41.000000\n",
            "50%         46.000000\n",
            "75%         52.000000\n",
            "max         73.000000\n",
            "Name: Customer_Age, dtype: float64 \n",
            "\n"
          ]
        }
      ]
    },
    {
      "cell_type": "markdown",
      "source": [
        "** Removing Outliers: To remove outliers, use a method like Z-score or IQR to detect and remove the extreme values. **"
      ],
      "metadata": {
        "id": "Jec8afx_opj7"
      }
    },
    {
      "cell_type": "code",
      "source": [
        "from scipy import stats\n",
        "\n",
        "# Calculate Z-score for customer_age column\n",
        "z_scores = stats.zscore(df['Customer_Age'])\n",
        "plt.boxplot(z_scores,vert=False)\n",
        "\n",
        "# Reatin rows with Z-score greater than -3 or less than +3\n",
        "df = df[(z_scores >= -3) & (z_scores <= 3)]"
      ],
      "metadata": {
        "colab": {
          "base_uri": "https://localhost:8080/",
          "height": 430
        },
        "id": "9ol9QRowTpz9",
        "outputId": "fe297652-3143-4e6b-bc3e-9460d350923a"
      },
      "execution_count": null,
      "outputs": [
        {
          "output_type": "display_data",
          "data": {
            "text/plain": [
              "<Figure size 640x480 with 1 Axes>"
            ],
            "image/png": "[encoded data removed]"
          },
          "metadata": {}
        }
      ]
    },
    {
      "cell_type": "markdown",
      "source": [
        "# Displaying the box plot again"
      ],
      "metadata": {
        "id": "BiuRmiGLoR26"
      }
    },
    {
      "cell_type": "code",
      "source": [
        "plt.boxplot(df['Customer_Age'],vert=False)\n",
        "plt.title('Box plot of customer_age')\n",
        "plt.ylabel('Customer_Age')\n",
        "plt.show()\n",
        "print(df.Customer_Age.describe(),'\\n')"
      ],
      "metadata": {
        "colab": {
          "base_uri": "https://localhost:8080/",
          "height": 626
        },
        "id": "lb1j5fTyUA2N",
        "outputId": "77fdf3ea-91ba-4c3d-a63f-f89bd084a2b4"
      },
      "execution_count": null,
      "outputs": [
        {
          "output_type": "display_data",
          "data": {
            "text/plain": [
              "<Figure size 640x480 with 1 Axes>"
            ],
            "image/png": "[encoded data removed]"
          },
          "metadata": {}
        },
        {
          "output_type": "stream",
          "name": "stdout",
          "text": [
            "count    10126.000000\n",
            "mean        46.323326\n",
            "std          8.012826\n",
            "min         26.000000\n",
            "25%         41.000000\n",
            "50%         46.000000\n",
            "75%         52.000000\n",
            "max         70.000000\n",
            "Name: Customer_Age, dtype: float64 \n",
            "\n"
          ]
        }
      ]
    },
    {
      "cell_type": "code",
      "source": [
        "print(df.describe(),'\\n')"
      ],
      "metadata": {
        "colab": {
          "base_uri": "https://localhost:8080/"
        },
        "id": "RQvAMfxmUTXt",
        "outputId": "cae34f3d-ee64-467b-adb9-0cd451b0a515"
      },
      "execution_count": null,
      "outputs": [
        {
          "output_type": "stream",
          "name": "stdout",
          "text": [
            "          CLIENTNUM  Customer_Age  Dependent_count  Months_on_book  \\\n",
            "count  1.012600e+04  10126.000000     10126.000000    10126.000000   \n",
            "mean   7.391799e+08     46.323326         2.346435       35.928402   \n",
            "std    3.690488e+07      8.012826         1.298763        7.986811   \n",
            "min    7.080821e+08     26.000000         0.000000       13.000000   \n",
            "25%    7.130365e+08     41.000000         1.000000       31.000000   \n",
            "50%    7.179273e+08     46.000000         2.000000       36.000000   \n",
            "75%    7.731450e+08     52.000000         3.000000       40.000000   \n",
            "max    8.283431e+08     70.000000         5.000000       56.000000   \n",
            "\n",
            "       Total_Relationship_Count  Months_Inactive_12_mon  \\\n",
            "count              10126.000000            10126.000000   \n",
            "mean                   3.812463                2.341102   \n",
            "std                    1.554440                1.010651   \n",
            "min                    1.000000                0.000000   \n",
            "25%                    3.000000                2.000000   \n",
            "50%                    4.000000                2.000000   \n",
            "75%                    5.000000                3.000000   \n",
            "max                    6.000000                6.000000   \n",
            "\n",
            "       Contacts_Count_12_mon  Credit_Limit  Total_Revolving_Bal  \\\n",
            "count           10126.000000  10126.000000         10126.000000   \n",
            "mean                2.455362   8632.364813          1162.817796   \n",
            "std                 1.106271   9089.131301           815.027494   \n",
            "min                 0.000000   1438.300000             0.000000   \n",
            "25%                 2.000000   2555.000000           358.000000   \n",
            "50%                 2.000000   4549.000000          1276.500000   \n",
            "75%                 3.000000  11067.750000          1784.000000   \n",
            "max                 6.000000  34516.000000          2517.000000   \n",
            "\n",
            "       Avg_Open_To_Buy  Total_Amt_Chng_Q4_Q1  Total_Trans_Amt  Total_Trans_Ct  \\\n",
            "count     10126.000000          10126.000000     10126.000000    10126.000000   \n",
            "mean       7469.547018              0.759881      4404.346929       64.861742   \n",
            "std        9091.041791              0.219136      3397.195758       23.471726   \n",
            "min           3.000000              0.000000       510.000000       10.000000   \n",
            "25%        1324.250000              0.631000      2156.000000       45.000000   \n",
            "50%        3474.500000              0.736000      3899.500000       67.000000   \n",
            "75%        9860.000000              0.859000      4741.000000       81.000000   \n",
            "max       34516.000000              3.397000     18484.000000      139.000000   \n",
            "\n",
            "       Total_Ct_Chng_Q4_Q1  Avg_Utilization_Ratio  \n",
            "count         10126.000000           10126.000000  \n",
            "mean              0.712133               0.274896  \n",
            "std               0.237929               0.275705  \n",
            "min               0.000000               0.000000  \n",
            "25%               0.582000               0.023000  \n",
            "50%               0.702000               0.175500  \n",
            "75%               0.818000               0.503000  \n",
            "max               3.714000               0.999000   \n",
            "\n"
          ]
        }
      ]
    },
    {
      "cell_type": "markdown",
      "source": [
        "# Converting the categorical variables to dummy variables"
      ],
      "metadata": {
        "id": "kYZ3CgmIoBcD"
      }
    },
    {
      "cell_type": "code",
      "source": [
        "df = pd.get_dummies(df, drop_first=False)\n",
        "df.info()"
      ],
      "metadata": {
        "colab": {
          "base_uri": "https://localhost:8080/"
        },
        "id": "3sduEBVzUbP2",
        "outputId": "58a79bc0-74f7-4f81-8178-69c2cac71208"
      },
      "execution_count": null,
      "outputs": [
        {
          "output_type": "stream",
          "name": "stdout",
          "text": [
            "<class 'pandas.core.frame.DataFrame'>\n",
            "Int64Index: 10126 entries, 0 to 10126\n",
            "Data columns (total 38 columns):\n",
            " #   Column                          Non-Null Count  Dtype  \n",
            "---  ------                          --------------  -----  \n",
            " 0   CLIENTNUM                       10126 non-null  int64  \n",
            " 1   Customer_Age                    10126 non-null  int64  \n",
            " 2   Dependent_count                 10126 non-null  int64  \n",
            " 3   Months_on_book                  10126 non-null  int64  \n",
            " 4   Total_Relationship_Count        10126 non-null  int64  \n",
            " 5   Months_Inactive_12_mon          10126 non-null  int64  \n",
            " 6   Contacts_Count_12_mon           10126 non-null  int64  \n",
            " 7   Credit_Limit                    10126 non-null  float64\n",
            " 8   Total_Revolving_Bal             10126 non-null  int64  \n",
            " 9   Avg_Open_To_Buy                 10126 non-null  float64\n",
            " 10  Total_Amt_Chng_Q4_Q1            10126 non-null  float64\n",
            " 11  Total_Trans_Amt                 10126 non-null  int64  \n",
            " 12  Total_Trans_Ct                  10126 non-null  int64  \n",
            " 13  Total_Ct_Chng_Q4_Q1             10126 non-null  float64\n",
            " 14  Avg_Utilization_Ratio           10126 non-null  float64\n",
            " 15  Gender_F                        10126 non-null  uint8  \n",
            " 16  Gender_M                        10126 non-null  uint8  \n",
            " 17  Education_Level_College         10126 non-null  uint8  \n",
            " 18  Education_Level_Doctorate       10126 non-null  uint8  \n",
            " 19  Education_Level_Graduate        10126 non-null  uint8  \n",
            " 20  Education_Level_High School     10126 non-null  uint8  \n",
            " 21  Education_Level_Post-Graduate   10126 non-null  uint8  \n",
            " 22  Education_Level_Uneducated      10126 non-null  uint8  \n",
            " 23  Education_Level_Unknown         10126 non-null  uint8  \n",
            " 24  Marital_Status_Divorced         10126 non-null  uint8  \n",
            " 25  Marital_Status_Married          10126 non-null  uint8  \n",
            " 26  Marital_Status_Single           10126 non-null  uint8  \n",
            " 27  Marital_Status_Unknown          10126 non-null  uint8  \n",
            " 28  Income_Category_$120K +         10126 non-null  uint8  \n",
            " 29  Income_Category_$40K - $60K     10126 non-null  uint8  \n",
            " 30  Income_Category_$60K - $80K     10126 non-null  uint8  \n",
            " 31  Income_Category_$80K - $120K    10126 non-null  uint8  \n",
            " 32  Income_Category_Less than $40K  10126 non-null  uint8  \n",
            " 33  Income_Category_Unknown         10126 non-null  uint8  \n",
            " 34  Card_Category_Blue              10126 non-null  uint8  \n",
            " 35  Card_Category_Gold              10126 non-null  uint8  \n",
            " 36  Card_Category_Platinum          10126 non-null  uint8  \n",
            " 37  Card_Category_Silver            10126 non-null  uint8  \n",
            "dtypes: float64(5), int64(10), uint8(23)\n",
            "memory usage: 1.5 MB\n"
          ]
        }
      ]
    },
    {
      "cell_type": "code",
      "source": [
        "print(df.columns)"
      ],
      "metadata": {
        "colab": {
          "base_uri": "https://localhost:8080/"
        },
        "id": "iUdXuvYuUnQR",
        "outputId": "9a9751ac-4749-4dc4-fd4a-387ae04655ba"
      },
      "execution_count": null,
      "outputs": [
        {
          "output_type": "stream",
          "name": "stdout",
          "text": [
            "Index(['CLIENTNUM', 'Customer_Age', 'Dependent_count', 'Months_on_book',\n",
            "       'Total_Relationship_Count', 'Months_Inactive_12_mon',\n",
            "       'Contacts_Count_12_mon', 'Credit_Limit', 'Total_Revolving_Bal',\n",
            "       'Avg_Open_To_Buy', 'Total_Amt_Chng_Q4_Q1', 'Total_Trans_Amt',\n",
            "       'Total_Trans_Ct', 'Total_Ct_Chng_Q4_Q1', 'Avg_Utilization_Ratio',\n",
            "       'Gender_F', 'Gender_M', 'Education_Level_College',\n",
            "       'Education_Level_Doctorate', 'Education_Level_Graduate',\n",
            "       'Education_Level_High School', 'Education_Level_Post-Graduate',\n",
            "       'Education_Level_Uneducated', 'Education_Level_Unknown',\n",
            "       'Marital_Status_Divorced', 'Marital_Status_Married',\n",
            "       'Marital_Status_Single', 'Marital_Status_Unknown',\n",
            "       'Income_Category_$120K +', 'Income_Category_$40K - $60K',\n",
            "       'Income_Category_$60K - $80K', 'Income_Category_$80K - $120K',\n",
            "       'Income_Category_Less than $40K', 'Income_Category_Unknown',\n",
            "       'Card_Category_Blue', 'Card_Category_Gold', 'Card_Category_Platinum',\n",
            "       'Card_Category_Silver'],\n",
            "      dtype='object')\n"
          ]
        }
      ]
    },
    {
      "cell_type": "markdown",
      "source": [
        "# Standardisation"
      ],
      "metadata": {
        "id": "RoSnb32unjyC"
      }
    },
    {
      "cell_type": "code",
      "source": [
        "from sklearn.preprocessing import StandardScaler\n",
        "  \n",
        "# Separate the dummy variables from the numerical variables\n",
        "dummy_cols = df.select_dtypes(include='uint8').columns\n",
        "num_cols = list(set(df.select_dtypes(include=['float64', 'int64']).columns) - set(dummy_cols))\n",
        "\n",
        "# Standardize the numerical variables\n",
        "scaler = StandardScaler()\n",
        "df[num_cols] = scaler.fit_transform(df[num_cols])\n",
        "\n",
        "# Combine the standardized numerical variables with the dummy variables\n",
        "df_std = pd.concat([df[num_cols], df[dummy_cols]], axis=1)\n",
        "\n",
        "print(df_std.head(5),'\\n')\n",
        "print(df_std.describe(),'\\n')\n",
        "     "
      ],
      "metadata": {
        "colab": {
          "base_uri": "https://localhost:8080/"
        },
        "id": "o6TISATVUvi8",
        "outputId": "00f10e31-4130-42a9-e702-189e53e0a93a"
      },
      "execution_count": null,
      "outputs": [
        {
          "output_type": "stream",
          "name": "stdout",
          "text": [
            "   Contacts_Count_12_mon  Credit_Limit  Months_Inactive_12_mon  \\\n",
            "0               0.492343      0.446559               -1.327034   \n",
            "1              -0.411640     -0.041410               -1.327034   \n",
            "2              -2.219605     -0.573721               -1.327034   \n",
            "3              -1.315622     -0.585273                1.641496   \n",
            "4              -2.219605     -0.430906               -1.327034   \n",
            "\n",
            "   Total_Revolving_Bal  Total_Trans_Ct  Months_on_book  Avg_Open_To_Buy  \\\n",
            "0            -0.473403       -0.974060        0.384603         0.488907   \n",
            "1            -0.366653       -1.357519        1.010666        -0.008530   \n",
            "2            -1.426793       -1.911404        0.008965        -0.445686   \n",
            "3             1.661599       -1.911404       -0.241460        -0.734116   \n",
            "4            -1.426793       -1.570552       -1.869224        -0.302901   \n",
            "\n",
            "   Total_Ct_Chng_Q4_Q1  Customer_Age  CLIENTNUM  ...  Income_Category_$120K +  \\\n",
            "0             3.836913     -0.165159   0.802792  ...                        0   \n",
            "1            12.617287      0.334065   2.156735  ...                        0   \n",
            "2             6.812741      0.583677  -0.682810  ...                        0   \n",
            "3             6.812741     -0.789190   0.832775  ...                        0   \n",
            "4             7.514666     -0.789190  -0.814934  ...                        0   \n",
            "\n",
            "   Income_Category_$40K - $60K  Income_Category_$60K - $80K  \\\n",
            "0                            0                            1   \n",
            "1                            0                            0   \n",
            "2                            0                            0   \n",
            "3                            0                            0   \n",
            "4                            0                            1   \n",
            "\n",
            "   Income_Category_$80K - $120K  Income_Category_Less than $40K  \\\n",
            "0                             0                               0   \n",
            "1                             0                               1   \n",
            "2                             1                               0   \n",
            "3                             0                               1   \n",
            "4                             0                               0   \n",
            "\n",
            "   Income_Category_Unknown  Card_Category_Blue  Card_Category_Gold  \\\n",
            "0                        0                   1                   0   \n",
            "1                        0                   1                   0   \n",
            "2                        0                   1                   0   \n",
            "3                        0                   1                   0   \n",
            "4                        0                   1                   0   \n",
            "\n",
            "   Card_Category_Platinum  Card_Category_Silver  \n",
            "0                       0                     0  \n",
            "1                       0                     0  \n",
            "2                       0                     0  \n",
            "3                       0                     0  \n",
            "4                       0                     0  \n",
            "\n",
            "[5 rows x 38 columns] \n",
            "\n",
            "       Contacts_Count_12_mon  Credit_Limit  Months_Inactive_12_mon  \\\n",
            "count           1.012600e+04  1.012600e+04            1.012600e+04   \n",
            "mean            1.627947e-16 -1.459539e-16           -1.880559e-16   \n",
            "std             1.000049e+00  1.000049e+00            1.000049e+00   \n",
            "min            -2.219605e+00 -7.915410e-01           -2.316544e+00   \n",
            "25%            -4.116398e-01 -6.686739e-01           -3.375240e-01   \n",
            "50%            -4.116398e-01 -4.492802e-01           -3.375240e-01   \n",
            "75%             4.923429e-01  2.679580e-01            6.519861e-01   \n",
            "max             3.204291e+00  2.847897e+00            3.620516e+00   \n",
            "\n",
            "       Total_Revolving_Bal  Total_Trans_Ct  Months_on_book  Avg_Open_To_Buy  \\\n",
            "count         1.012600e+04    1.012600e+04    1.012600e+04     1.012600e+04   \n",
            "mean          1.234994e-16   -2.694533e-16    2.694533e-16    -7.859055e-17   \n",
            "std           1.000049e+00    1.000049e+00    1.000049e+00     1.000049e+00   \n",
            "min          -1.426793e+00   -2.337470e+00   -2.870925e+00    -8.213487e-01   \n",
            "25%          -9.875219e-01   -8.462404e-01   -6.170981e-01    -6.760062e-01   \n",
            "50%           1.394895e-01    9.110380e-02    8.964956e-03    -4.394705e-01   \n",
            "75%           7.621987e-01    6.875956e-01    5.098154e-01     2.629590e-01   \n",
            "max           1.661599e+00    3.158776e+00    2.513217e+00     2.975213e+00   \n",
            "\n",
            "       Total_Ct_Chng_Q4_Q1  Customer_Age     CLIENTNUM  ...  \\\n",
            "count         1.012600e+04  1.012600e+04  1.012600e+04  ...   \n",
            "mean          1.375335e-16  3.003282e-16 -5.122419e-16  ...   \n",
            "std           1.000049e+00  1.000049e+00  1.000049e+00  ...   \n",
            "min          -2.993200e+00 -2.536475e+00 -8.426893e-01  ...   \n",
            "25%          -5.469690e-01 -6.643835e-01 -7.084347e-01  ...   \n",
            "50%          -4.259142e-02 -4.035306e-02 -5.759025e-01  ...   \n",
            "75%           4.449736e-01  7.084834e-01  9.203859e-01  ...   \n",
            "max           1.261729e+01  2.954993e+00  2.416146e+00  ...   \n",
            "\n",
            "       Income_Category_$120K +  Income_Category_$40K - $60K  \\\n",
            "count             10126.000000                 10126.000000   \n",
            "mean                  0.071795                     0.176674   \n",
            "std                   0.258162                     0.381411   \n",
            "min                   0.000000                     0.000000   \n",
            "25%                   0.000000                     0.000000   \n",
            "50%                   0.000000                     0.000000   \n",
            "75%                   0.000000                     0.000000   \n",
            "max                   1.000000                     1.000000   \n",
            "\n",
            "       Income_Category_$60K - $80K  Income_Category_$80K - $120K  \\\n",
            "count                 10126.000000                  10126.000000   \n",
            "mean                      0.138455                      0.151590   \n",
            "std                       0.345394                      0.358641   \n",
            "min                       0.000000                      0.000000   \n",
            "25%                       0.000000                      0.000000   \n",
            "50%                       0.000000                      0.000000   \n",
            "75%                       0.000000                      0.000000   \n",
            "max                       1.000000                      1.000000   \n",
            "\n",
            "       Income_Category_Less than $40K  Income_Category_Unknown  \\\n",
            "count                    10126.000000             10126.000000   \n",
            "mean                         0.351669                 0.109816   \n",
            "std                          0.477515                 0.312676   \n",
            "min                          0.000000                 0.000000   \n",
            "25%                          0.000000                 0.000000   \n",
            "50%                          0.000000                 0.000000   \n",
            "75%                          1.000000                 0.000000   \n",
            "max                          1.000000                 1.000000   \n",
            "\n",
            "       Card_Category_Blue  Card_Category_Gold  Card_Category_Platinum  \\\n",
            "count         10126.00000        10126.000000            10126.000000   \n",
            "mean              0.93176            0.011456                0.001975   \n",
            "std               0.25217            0.106422                0.044401   \n",
            "min               0.00000            0.000000                0.000000   \n",
            "25%               1.00000            0.000000                0.000000   \n",
            "50%               1.00000            0.000000                0.000000   \n",
            "75%               1.00000            0.000000                0.000000   \n",
            "max               1.00000            1.000000                1.000000   \n",
            "\n",
            "       Card_Category_Silver  \n",
            "count          10126.000000  \n",
            "mean               0.054809  \n",
            "std                0.227619  \n",
            "min                0.000000  \n",
            "25%                0.000000  \n",
            "50%                0.000000  \n",
            "75%                0.000000  \n",
            "max                1.000000  \n",
            "\n",
            "[8 rows x 38 columns] \n",
            "\n"
          ]
        }
      ]
    },
    {
      "cell_type": "markdown",
      "source": [
        "# Split the data into training and test sets (80:20)"
      ],
      "metadata": {
        "id": "SSiZok9ZnXcd"
      }
    },
    {
      "cell_type": "code",
      "source": [
        "from sklearn.model_selection import train_test_split\n"
      ],
      "metadata": {
        "id": "srFiQ01PU9ZM"
      },
      "execution_count": null,
      "outputs": []
    },
    {
      "cell_type": "code",
      "source": [
        "X_train, X_test, y_train, y_test = train_test_split(df_std.drop('Credit_Limit', axis=1), df['Credit_Limit'], test_size=0.2, random_state = 42)"
      ],
      "metadata": {
        "id": "srmBQz-pYWjS"
      },
      "execution_count": null,
      "outputs": []
    },
    {
      "cell_type": "markdown",
      "source": [
        "# Import/install the necessary packages"
      ],
      "metadata": {
        "id": "KscShi5hnQD7"
      }
    },
    {
      "cell_type": "code",
      "source": [
        "!pip install scikeras\n",
        "import scikeras as sk\n",
        "from sklearn.metrics import mean_squared_error, r2_score\n",
        "from keras.models import Sequential\n",
        "from keras.layers import Dense\n",
        "from keras.callbacks import EarlyStopping\n",
        "from scikeras.wrappers import KerasRegressor\n",
        "from sklearn.model_selection import GridSearchCV"
      ],
      "metadata": {
        "colab": {
          "base_uri": "https://localhost:8080/"
        },
        "id": "k4D8KEAlZt9u",
        "outputId": "e3d6f725-4abc-4440-9c10-b9017ef8015e"
      },
      "execution_count": null,
      "outputs": [
        {
          "output_type": "stream",
          "name": "stdout",
          "text": [
            "Looking in indexes: https://pypi.org/simple, https://us-python.pkg.dev/colab-wheels/public/simple/\n",
            "Collecting scikeras\n",
            "  Downloading scikeras-0.10.0-py3-none-any.whl (27 kB)\n",
            "Requirement already satisfied: packaging>=0.21 in /usr/local/lib/python3.10/dist-packages (from scikeras) (23.1)\n",
            "Requirement already satisfied: scikit-learn>=1.0.0 in /usr/local/lib/python3.10/dist-packages (from scikeras) (1.2.2)\n",
            "Requirement already satisfied: numpy>=1.17.3 in /usr/local/lib/python3.10/dist-packages (from scikit-learn>=1.0.0->scikeras) (1.22.4)\n",
            "Requirement already satisfied: scipy>=1.3.2 in /usr/local/lib/python3.10/dist-packages (from scikit-learn>=1.0.0->scikeras) (1.10.1)\n",
            "Requirement already satisfied: joblib>=1.1.1 in /usr/local/lib/python3.10/dist-packages (from scikit-learn>=1.0.0->scikeras) (1.2.0)\n",
            "Requirement already satisfied: threadpoolctl>=2.0.0 in /usr/local/lib/python3.10/dist-packages (from scikit-learn>=1.0.0->scikeras) (3.1.0)\n",
            "Installing collected packages: scikeras\n",
            "Successfully installed scikeras-0.10.0\n"
          ]
        }
      ]
    },
    {
      "cell_type": "markdown",
      "source": [
        "# Model architecture and creation"
      ],
      "metadata": {
        "id": "mVXhzCWSnDFa"
      }
    },
    {
      "cell_type": "code",
      "source": [
        "# define model architecture\n",
        "def create_model():\n",
        "    model = Sequential()\n",
        "    model.add(Dense(32, input_dim=X_train.shape[1], activation='relu'))\n",
        "    model.add(Dense(16, activation='relu'))\n",
        "    model.add(Dense(1, activation='linear'))\n",
        "    model.compile(loss='mean_squared_error', optimizer='adam')\n",
        "    return model\n",
        "\n",
        "# create the model\n",
        "model = KerasRegressor(build_fn=create_model, verbose=0)\n",
        "print(model)"
      ],
      "metadata": {
        "colab": {
          "base_uri": "https://localhost:8080/"
        },
        "id": "RUfh5C6FZ5uH",
        "outputId": "0dcce7c6-78b7-4668-e9e0-07841d6dfcc3"
      },
      "execution_count": null,
      "outputs": [
        {
          "output_type": "stream",
          "name": "stdout",
          "text": [
            "KerasRegressor(\n",
            "\tmodel=None\n",
            "\tbuild_fn=<function create_model at 0x7fe136828d30>\n",
            "\twarm_start=False\n",
            "\trandom_state=None\n",
            "\toptimizer=rmsprop\n",
            "\tloss=None\n",
            "\tmetrics=None\n",
            "\tbatch_size=None\n",
            "\tvalidation_batch_size=None\n",
            "\tverbose=0\n",
            "\tcallbacks=None\n",
            "\tvalidation_split=0.0\n",
            "\tshuffle=True\n",
            "\trun_eagerly=False\n",
            "\tepochs=1\n",
            ")\n"
          ]
        }
      ]
    },
    {
      "cell_type": "markdown",
      "source": [
        "# To Find the best parameters using grid search"
      ],
      "metadata": {
        "id": "R-b527j4muat"
      }
    },
    {
      "cell_type": "code",
      "source": [
        "# define the grid search parameters\n",
        "param_grid = {'batch_size': [32, 64],\n",
        "              'epochs': [50, 100],\n",
        "              'optimizer': ['adam', 'sgd']}\n",
        "\n",
        "# perform grid search to find the best hyperparameters\n",
        "grid = GridSearchCV(estimator=model, param_grid=param_grid, cv=3, n_jobs=-1)\n",
        "grid_result = grid.fit(X_train, y_train)\n",
        " \n",
        "# print the best parameters\n",
        "print(f\"Best Parameters: {grid_result.best_params_}\")"
      ],
      "metadata": {
        "colab": {
          "base_uri": "https://localhost:8080/"
        },
        "id": "X5gbpxBdaGnu",
        "outputId": "93b651bf-3d85-4305-d457-8cb712eb33ca"
      },
      "execution_count": null,
      "outputs": [
        {
          "output_type": "stream",
          "name": "stderr",
          "text": [
            "/usr/local/lib/python3.10/dist-packages/scikeras/wrappers.py:301: UserWarning: ``build_fn`` will be renamed to ``model`` in a future release, at which point use of ``build_fn`` will raise an Error instead.\n",
            "  warnings.warn(\n"
          ]
        },
        {
          "output_type": "stream",
          "name": "stdout",
          "text": [
            "Best Parameters: {'batch_size': 32, 'epochs': 100, 'optimizer': 'sgd'}\n"
          ]
        }
      ]
    },
    {
      "cell_type": "markdown",
      "source": [
        "# To Fit the model with the best hyperparameters and make predictions using the test set"
      ],
      "metadata": {
        "id": "Ev7Onp0HmhIt"
      }
    },
    {
      "cell_type": "code",
      "source": [
        "best_model = grid.best_estimator_\n",
        "best_model.fit(X_train, y_train, epochs=grid_result.best_params_['epochs'], batch_size=grid_result.best_params_['batch_size'], verbose=0, callbacks=[EarlyStopping(patience=10, restore_best_weights=True)])\n",
        "\n",
        "# Y predict on X test set\n",
        "y_pred = best_model.predict(X_test)"
      ],
      "metadata": {
        "colab": {
          "base_uri": "https://localhost:8080/"
        },
        "id": "Y-71d0VxaSn7",
        "outputId": "14595733-0bbd-494a-dcb6-4fe8acc98bdf"
      },
      "execution_count": null,
      "outputs": [
        {
          "output_type": "stream",
          "name": "stderr",
          "text": [
            "/usr/local/lib/python3.10/dist-packages/scikeras/wrappers.py:301: UserWarning: ``build_fn`` will be renamed to ``model`` in a future release, at which point use of ``build_fn`` will raise an Error instead.\n",
            "  warnings.warn(\n"
          ]
        }
      ]
    },
    {
      "cell_type": "markdown",
      "source": [
        "# Computing Performance Metrics"
      ],
      "metadata": {
        "id": "rrvGGV4SmClw"
      }
    },
    {
      "cell_type": "code",
      "source": [
        "mse = mean_squared_error(y_test, y_pred)\n",
        "r2 = r2_score(y_test, y_pred)\n",
        "print(f\"Mean Squared Error: {mse}\")\n",
        "print(f\"R-squared: {r2}\")"
      ],
      "metadata": {
        "colab": {
          "base_uri": "https://localhost:8080/"
        },
        "id": "_bgwGFwohXz2",
        "outputId": "3fb7272c-807a-4b11-b974-20de07a73c6d"
      },
      "execution_count": null,
      "outputs": [
        {
          "output_type": "stream",
          "name": "stdout",
          "text": [
            "Mean Squared Error: 6.183488874944598e-05\n",
            "R-squared: 0.9999375503158516\n"
          ]
        }
      ]
    },
    {
      "cell_type": "markdown",
      "source": [
        "# To Display Feature Importance"
      ],
      "metadata": {
        "id": "6MDlKN68l1j2"
      }
    },
    {
      "cell_type": "code",
      "source": [
        "import numpy as np\n",
        "\n",
        "importance = best_model.predict(X_train, verbose=0)\n",
        "importance = np.squeeze(importance)\n",
        "feature_names = X_train.columns\n",
        "feature_importance = dict(zip(feature_names, importance))\n",
        "sorted_importance = sorted(feature_importance.items(), key=lambda kv: abs(kv[1]), reverse=True)\n",
        "\n",
        "for feature, importance in sorted_importance:\n",
        "    print(f\"{feature}: {abs(importance)}\")\n",
        "\n",
        "importance_values = [abs(kv[1]) for kv in sorted_importance]\n",
        "#print(importance_values)\n",
        "feature_names = [kv[0] for kv in sorted_importance]\n",
        "#print(feature_names)\n",
        "\n",
        "plt.barh(range(len(importance_values)), importance_values, align='center')\n",
        "plt.yticks(range(len(feature_names)), feature_names)\n",
        "plt.xlabel(\"Importance\")\n",
        "plt.ylabel(\"Feature\")\n",
        "plt.title(\"Feature Importance\")\n",
        "plt.show()"
      ],
      "metadata": {
        "colab": {
          "base_uri": "https://localhost:8080/",
          "height": 1000
        },
        "id": "WWDA7ubDh3fU",
        "outputId": "f024c779-87d9-4c1b-ada7-3ec21819a02a"
      },
      "execution_count": null,
      "outputs": [
        {
          "output_type": "stream",
          "name": "stdout",
          "text": [
            "Card_Category_Blue: 2.837461471557617\n",
            "Card_Category_Gold: 2.3344016075134277\n",
            "Total_Revolving_Bal: 1.8166062831878662\n",
            "Education_Level_Graduate: 1.6869975328445435\n",
            "Total_Amt_Chng_Q4_Q1: 1.5876929759979248\n",
            "Income_Category_Less than $40K: 1.3711402416229248\n",
            "Customer_Age: 0.8144843578338623\n",
            "Dependent_count: 0.7877635955810547\n",
            "Income_Category_Unknown: 0.782707154750824\n",
            "Education_Level_Post-Graduate: 0.7561928629875183\n",
            "Card_Category_Silver: 0.7472612261772156\n",
            "Months_on_book: 0.7449765205383301\n",
            "Avg_Open_To_Buy: 0.7264518737792969\n",
            "Education_Level_Uneducated: 0.6934188008308411\n",
            "Months_Inactive_12_mon: 0.6828525066375732\n",
            "Marital_Status_Married: 0.6817195415496826\n",
            "Education_Level_Unknown: 0.6619426012039185\n",
            "Total_Ct_Chng_Q4_Q1: 0.6471303701400757\n",
            "Income_Category_$120K +: 0.6424476504325867\n",
            "Marital_Status_Single: 0.5944770574569702\n",
            "Education_Level_College: 0.548321008682251\n",
            "Contacts_Count_12_mon: 0.5418246388435364\n",
            "Marital_Status_Unknown: 0.5121386647224426\n",
            "Card_Category_Platinum: 0.5008239150047302\n",
            "Income_Category_$80K - $120K: 0.36648064851760864\n",
            "Income_Category_$60K - $80K: 0.3494983911514282\n",
            "Total_Relationship_Count: 0.3377337157726288\n",
            "Gender_F: 0.26003700494766235\n",
            "Marital_Status_Divorced: 0.2546088695526123\n",
            "Education_Level_Doctorate: 0.2303704172372818\n",
            "CLIENTNUM: 0.19464220106601715\n",
            "Gender_M: 0.11491252481937408\n",
            "Total_Trans_Ct: 0.0851433277130127\n",
            "Education_Level_High School: 0.07892487943172455\n",
            "Avg_Utilization_Ratio: 0.06970080733299255\n",
            "Income_Category_$40K - $60K: 0.04937266558408737\n",
            "Total_Trans_Amt: 0.004692848771810532\n"
          ]
        },
        {
          "output_type": "display_data",
          "data": {
            "text/plain": [
              "<Figure size 640x480 with 1 Axes>"
            ],
            "image/png": "[encoded data removed]"
          },
          "metadata": {}
        }
      ]
    },
    {
      "cell_type": "markdown",
      "source": [],
      "metadata": {
        "id": "CF4z94HrlYRq"
      }
    },
    {
      "cell_type": "markdown",
      "source": [
        "# We Use the following hyperparameter snippet for the tuning:"
      ],
      "metadata": {
        "id": "_BAdPUC8lara"
      }
    },
    {
      "cell_type": "code",
      "source": [
        "param_grid = {'batch_size': [32, 64, 128],\n",
        "              'epochs': [50, 100, 150],\n",
        "              'optimizer': ['adam', 'sgd', 'Adamax']}"
      ],
      "metadata": {
        "id": "XEdZz9s6iLnl"
      },
      "execution_count": null,
      "outputs": []
    },
    {
      "cell_type": "code",
      "source": [],
      "metadata": {
        "id": "5rIStjieihex"
      },
      "execution_count": null,
      "outputs": []
    }
  ]
}